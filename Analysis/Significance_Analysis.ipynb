{
 "cells": [
  {
   "cell_type": "code",
   "id": "initial_id",
   "metadata": {
    "collapsed": true,
    "ExecuteTime": {
     "end_time": "2024-12-03T10:15:29.783780Z",
     "start_time": "2024-12-03T10:15:29.780631Z"
    }
   },
   "source": [
    "import json\n",
    "import matplotlib.pyplot as plt\n",
    "import numpy as np"
   ],
   "outputs": [],
   "execution_count": 2
  },
  {
   "metadata": {
    "ExecuteTime": {
     "end_time": "2024-12-02T08:29:24.573336Z",
     "start_time": "2024-12-02T08:29:24.569583Z"
    }
   },
   "cell_type": "code",
   "source": [
    "# Opening JSON file\n",
    "with open('../Results/resultsPython.json') as json_file:\n",
    "    dataPython = json.load(json_file)"
   ],
   "id": "745d2e23966e697b",
   "outputs": [],
   "execution_count": 4
  },
  {
   "metadata": {
    "ExecuteTime": {
     "end_time": "2024-12-02T08:35:11.677874Z",
     "start_time": "2024-12-02T08:35:11.641996Z"
    }
   },
   "cell_type": "code",
   "source": [
    "from scipy.stats import mannwhitneyu\n",
    "human_comparisonPython={\"4o\": [], \"o1\":[], \"copilot\": []}\n",
    "number_tasks_4o=0\n",
    "number_tasks_o1=0\n",
    "number_tasks_copilot=0\n",
    "for task in dataPython.keys():\n",
    "    if np.mean(dataPython[task][\"human\"][\"Energy Linux\"])>12 and np.mean(dataPython[task][\"4o\"][\"Energy Linux\"])>12:\n",
    "        number_tasks_4o+=1\n",
    "        U1, p = mannwhitneyu(dataPython[task][\"human\"][\"Energy Linux\"], dataPython[task][\"4o\"][\"Energy Linux\"], method=\"exact\")\n",
    "        print(\"4o: \"+ str(task)+\": \"+str(p))\n",
    "        if p<0.0001:\n",
    "            human_comparisonPython[\"4o\"].append(task)\n",
    "    if np.mean(dataPython[task][\"human\"][\"Energy Linux\"])>12 and np.mean(dataPython[task][\"o1\"][\"Energy Linux\"])>12:\n",
    "        number_tasks_o1+=1\n",
    "        U1, p = mannwhitneyu(dataPython[task][\"human\"][\"Energy Linux\"], dataPython[task][\"o1\"][\"Energy Linux\"], method=\"exact\")\n",
    "        print(\"o1: \"+ str(task)+\": \"+str(p))\n",
    "        if p<0.0001:\n",
    "            human_comparisonPython[\"o1\"].append(task)\n",
    "    if np.mean(dataPython[task][\"human\"][\"Energy Linux\"])>12 and np.mean(dataPython[task][\"copilot\"][\"Energy Linux\"])>12:\n",
    "        number_tasks_copilot+=1\n",
    "        U1, p = mannwhitneyu(dataPython[task][\"human\"][\"Energy Linux\"], dataPython[task][\"copilot\"][\"Energy Linux\"], method=\"exact\")\n",
    "        print(\"copilot: \"+ str(task)+\": \"+str(p))\n",
    "        if p<0.0001:\n",
    "            human_comparisonPython[\"copilot\"].append(task)"
   ],
   "id": "7e0d269302a57281",
   "outputs": [
    {
     "name": "stdout",
     "output_type": "stream",
     "text": [
      "4o: N-Queens_II: 1.082508822446903e-05\n",
      "o1: N-Queens_II: 1.082508822446903e-05\n",
      "copilot: N-Queens_II: 0.001050033557773496\n",
      "4o: Number_of_Subarrays_With_AND_Value_of_K: 1.082508822446903e-05\n",
      "o1: Number_of_Subarrays_With_AND_Value_of_K: 1.082508822446903e-05\n",
      "copilot: Number_of_Subarrays_With_AND_Value_of_K: 1.082508822446903e-05\n",
      "4o: Count_Substrings_That_Satisfy_K-Constraint_II: 0.0015046872632011952\n",
      "o1: Count_Substrings_That_Satisfy_K-Constraint_II: 1.082508822446903e-05\n",
      "copilot: Count_Substrings_That_Satisfy_K-Constraint_II: 1.082508822446903e-05\n",
      "o1: Find_Edges_in_Shortest_Paths: 1.082508822446903e-05\n",
      "4o: Find_the_Median_of_the_Uniqueness_Array: 1.082508822446903e-05\n",
      "o1: Find_the_Median_of_the_Uniqueness_Array: 7.577561757128321e-05\n",
      "4o: Minimum_Cost_for_Cutting_Cake_II: 1.082508822446903e-05\n",
      "copilot: Minimum_Cost_for_Cutting_Cake_II: 1.082508822446903e-05\n",
      "4o: Find_the_Occurrence_of_First_Almost_Equal_Substring: 1.082508822446903e-05\n",
      "o1: Find_the_Occurrence_of_First_Almost_Equal_Substring: 1.082508822446903e-05\n",
      "copilot: Find_the_Occurrence_of_First_Almost_Equal_Substring: 1.082508822446903e-05\n",
      "o1: Count_Substrings_That_Can_Be_Rearranged_to_Contain_a_String_II: 1.082508822446903e-05\n",
      "4o: Merge_k_Sorted_Lists: 1.082508822446903e-05\n",
      "o1: Merge_k_Sorted_Lists: 1.082508822446903e-05\n",
      "copilot: Merge_k_Sorted_Lists: 1.082508822446903e-05\n",
      "4o: Sudoku_Solver: 1.082508822446903e-05\n",
      "o1: Sudoku_Solver: 0.0051960423477451344\n",
      "copilot: Sudoku_Solver: 0.08920955205784928\n",
      "4o: Minimum_Window_Substring: 1.082508822446903e-05\n",
      "4o: Scramble_String: 1.082508822446903e-05\n",
      "o1: Scramble_String: 1.082508822446903e-05\n",
      "copilot: Scramble_String: 1.082508822446903e-05\n",
      "4o: Minimum_Sum_of_Values_by_Dividing_Array: 1.082508822446903e-05\n",
      "copilot: Minimum_Sum_of_Values_by_Dividing_Array: 1.082508822446903e-05\n",
      "4o: Regular_Expression_Matching: 1.082508822446903e-05\n",
      "o1: Regular_Expression_Matching: 1.082508822446903e-05\n",
      "copilot: Regular_Expression_Matching: 1.082508822446903e-05\n",
      "o1: Maximize_the_Number_of_Partitions_After_Operations: 1.082508822446903e-05\n",
      "copilot: Maximize_the_Number_of_Partitions_After_Operations: 1.082508822446903e-05\n",
      "o1: Maximum_Number_of_Moves_to_Kill_All_Pawns: 1.082508822446903e-05\n",
      "4o: Substring_with_Concatenation_of_All_Words: 1.082508822446903e-05\n",
      "o1: Substring_with_Concatenation_of_All_Words: 1.082508822446903e-05\n",
      "copilot: Substring_with_Concatenation_of_All_Words: 1.082508822446903e-05\n",
      "4o: Reverse_Nodes_in_k-Group: 0.014689644720604474\n",
      "copilot: Reverse_Nodes_in_k-Group: 0.0051960423477451344\n",
      "4o: Permutation_Sequence: 2.165017644893806e-05\n",
      "o1: Permutation_Sequence: 1.082508822446903e-05\n",
      "copilot: Permutation_Sequence: 1.082508822446903e-05\n",
      "4o: Find_Subarray_With_Bitwise_OR_Closest_to_K: 0.014689644720604474\n",
      "o1: Find_Subarray_With_Bitwise_OR_Closest_to_K: 1.082508822446903e-05\n",
      "copilot: Find_Subarray_With_Bitwise_OR_Closest_to_K: 1.082508822446903e-05\n",
      "4o: Trapping_Rain_Water: 1.082508822446903e-05\n",
      "o1: Trapping_Rain_Water: 0.00012990105869362836\n",
      "copilot: Trapping_Rain_Water: 1.082508822446903e-05\n",
      "4o: Count_Prefix_and_Suffix_Pairs_II: 1.082508822446903e-05\n",
      "o1: Count_Prefix_and_Suffix_Pairs_II: 0.0015046872632011952\n",
      "copilot: Count_Prefix_and_Suffix_Pairs_II: 1.082508822446903e-05\n",
      "4o: Largest_Rectangle_in_Histogram: 0.16549394877568255\n",
      "o1: Largest_Rectangle_in_Histogram: 4.330035289787612e-05\n",
      "copilot: Largest_Rectangle_in_Histogram: 0.5288488601182101\n",
      "4o: Select_Cells_in_Grid_With_Maximum_Score: 1.082508822446903e-05\n",
      "o1: Select_Cells_in_Grid_With_Maximum_Score: 1.082508822446903e-05\n",
      "4o: Longest_Common_Suffix_Queries: 1.082508822446903e-05\n",
      "o1: Longest_Common_Suffix_Queries: 1.082508822446903e-05\n",
      "copilot: Longest_Common_Suffix_Queries: 1.082508822446903e-05\n",
      "4o: Number_of_Subarrays_That_Match_a_Pattern_II: 1.082508822446903e-05\n",
      "o1: Number_of_Subarrays_That_Match_a_Pattern_II: 7.577561757128321e-05\n",
      "copilot: Number_of_Subarrays_That_Match_a_Pattern_II: 1.082508822446903e-05\n",
      "4o: Median_of_Two_Sorted_Arrays: 1.082508822446903e-05\n",
      "o1: Median_of_Two_Sorted_Arrays: 4.330035289787612e-05\n",
      "copilot: Median_of_Two_Sorted_Arrays: 1.082508822446903e-05\n",
      "o1: Minimum_Amount_of_Damage_Dealt_to_Bob: 1.082508822446903e-05\n",
      "4o: Distinct_Subsequences: 1.082508822446903e-05\n",
      "o1: Distinct_Subsequences: 1.082508822446903e-05\n",
      "copilot: Distinct_Subsequences: 0.06301283855463422\n",
      "o1: Minimum_Number_of_Valid_Strings_to_Form_Target_II: 1.082508822446903e-05\n",
      "copilot: Minimum_Number_of_Valid_Strings_to_Form_Target_II: 1.082508822446903e-05\n",
      "4o: Text_Justification: 0.0015046872632011952\n",
      "o1: Text_Justification: 1.082508822446903e-05\n",
      "copilot: Text_Justification: 1.082508822446903e-05\n",
      "4o: Find_Beautiful_Indices_in_the_Given_Array_II: 1.082508822446903e-05\n",
      "o1: Find_Beautiful_Indices_in_the_Given_Array_II: 1.082508822446903e-05\n",
      "copilot: Find_Beautiful_Indices_in_the_Given_Array_II: 1.082508822446903e-05\n",
      "4o: Longest_Valid_Parentheses: 1.082508822446903e-05\n",
      "o1: Longest_Valid_Parentheses: 1.082508822446903e-05\n",
      "copilot: Longest_Valid_Parentheses: 1.082508822446903e-05\n",
      "4o: Construct_String_with_Minimum_Cost: 1.082508822446903e-05\n",
      "o1: Construct_String_with_Minimum_Cost: 1.082508822446903e-05\n",
      "4o: First_Missing_Positive: 1.082508822446903e-05\n",
      "o1: First_Missing_Positive: 1.082508822446903e-05\n",
      "copilot: First_Missing_Positive: 1.082508822446903e-05\n",
      "o1: Find_Number_of_Coins_to_Place_in_Tree_Nodes: 1.082508822446903e-05\n",
      "4o: Maximum_Sum_of_Subsequence_With_Non-adjacent_Elements: 1.082508822446903e-05\n",
      "o1: Maximum_Sum_of_Subsequence_With_Non-adjacent_Elements: 1.082508822446903e-05\n",
      "copilot: Maximum_Sum_of_Subsequence_With_Non-adjacent_Elements: 1.082508822446903e-05\n",
      "4o: Wildcard_Matching: 1.082508822446903e-05\n",
      "o1: Wildcard_Matching: 1.082508822446903e-05\n",
      "copilot: Wildcard_Matching: 1.082508822446903e-05\n",
      "4o: N-Queens: 1.082508822446903e-05\n",
      "o1: N-Queens: 1.082508822446903e-05\n",
      "copilot: N-Queens: 1.082508822446903e-05\n",
      "4o: Find_the_Largest_Palindrome_Divisible_by_K: 1.082508822446903e-05\n",
      "copilot: Find_the_Largest_Palindrome_Divisible_by_K: 1.082508822446903e-05\n",
      "4o: Maximal_Rectangle: 1.082508822446903e-05\n",
      "o1: Maximal_Rectangle: 1.082508822446903e-05\n",
      "copilot: Maximal_Rectangle: 1.082508822446903e-05\n"
     ]
    }
   ],
   "execution_count": 8
  },
  {
   "metadata": {
    "ExecuteTime": {
     "end_time": "2024-12-02T08:30:14.739003Z",
     "start_time": "2024-12-02T08:30:14.734889Z"
    }
   },
   "cell_type": "code",
   "source": "human_comparisonPython",
   "id": "9aa512f060c7a9e4",
   "outputs": [
    {
     "data": {
      "text/plain": [
       "{'4o': ['N-Queens_II',\n",
       "  'Number_of_Subarrays_With_AND_Value_of_K',\n",
       "  'Find_the_Median_of_the_Uniqueness_Array',\n",
       "  'Minimum_Cost_for_Cutting_Cake_II',\n",
       "  'Find_the_Occurrence_of_First_Almost_Equal_Substring',\n",
       "  'Merge_k_Sorted_Lists',\n",
       "  'Sudoku_Solver',\n",
       "  'Minimum_Window_Substring',\n",
       "  'Scramble_String',\n",
       "  'Minimum_Sum_of_Values_by_Dividing_Array',\n",
       "  'Regular_Expression_Matching',\n",
       "  'Substring_with_Concatenation_of_All_Words',\n",
       "  'Permutation_Sequence',\n",
       "  'Trapping_Rain_Water',\n",
       "  'Count_Prefix_and_Suffix_Pairs_II',\n",
       "  'Select_Cells_in_Grid_With_Maximum_Score',\n",
       "  'Longest_Common_Suffix_Queries',\n",
       "  'Number_of_Subarrays_That_Match_a_Pattern_II',\n",
       "  'Median_of_Two_Sorted_Arrays',\n",
       "  'Distinct_Subsequences',\n",
       "  'Find_Beautiful_Indices_in_the_Given_Array_II',\n",
       "  'Longest_Valid_Parentheses',\n",
       "  'Construct_String_with_Minimum_Cost',\n",
       "  'First_Missing_Positive',\n",
       "  'Maximum_Sum_of_Subsequence_With_Non-adjacent_Elements',\n",
       "  'Wildcard_Matching',\n",
       "  'N-Queens',\n",
       "  'Find_the_Largest_Palindrome_Divisible_by_K',\n",
       "  'Maximal_Rectangle'],\n",
       " 'o1': ['N-Queens_II',\n",
       "  'Number_of_Subarrays_With_AND_Value_of_K',\n",
       "  'Count_Substrings_That_Satisfy_K-Constraint_II',\n",
       "  'Find_Edges_in_Shortest_Paths',\n",
       "  'Find_the_Median_of_the_Uniqueness_Array',\n",
       "  'Find_the_Occurrence_of_First_Almost_Equal_Substring',\n",
       "  'Count_Substrings_That_Can_Be_Rearranged_to_Contain_a_String_II',\n",
       "  'Merge_k_Sorted_Lists',\n",
       "  'Scramble_String',\n",
       "  'Regular_Expression_Matching',\n",
       "  'Maximize_the_Number_of_Partitions_After_Operations',\n",
       "  'Maximum_Number_of_Moves_to_Kill_All_Pawns',\n",
       "  'Substring_with_Concatenation_of_All_Words',\n",
       "  'Permutation_Sequence',\n",
       "  'Find_Subarray_With_Bitwise_OR_Closest_to_K',\n",
       "  'Largest_Rectangle_in_Histogram',\n",
       "  'Select_Cells_in_Grid_With_Maximum_Score',\n",
       "  'Longest_Common_Suffix_Queries',\n",
       "  'Number_of_Subarrays_That_Match_a_Pattern_II',\n",
       "  'Median_of_Two_Sorted_Arrays',\n",
       "  'Minimum_Amount_of_Damage_Dealt_to_Bob',\n",
       "  'Distinct_Subsequences',\n",
       "  'Minimum_Number_of_Valid_Strings_to_Form_Target_II',\n",
       "  'Text_Justification',\n",
       "  'Find_Beautiful_Indices_in_the_Given_Array_II',\n",
       "  'Longest_Valid_Parentheses',\n",
       "  'Construct_String_with_Minimum_Cost',\n",
       "  'First_Missing_Positive',\n",
       "  'Find_Number_of_Coins_to_Place_in_Tree_Nodes',\n",
       "  'Maximum_Sum_of_Subsequence_With_Non-adjacent_Elements',\n",
       "  'Wildcard_Matching',\n",
       "  'N-Queens',\n",
       "  'Maximal_Rectangle'],\n",
       " 'copilot': ['Number_of_Subarrays_With_AND_Value_of_K',\n",
       "  'Count_Substrings_That_Satisfy_K-Constraint_II',\n",
       "  'Minimum_Cost_for_Cutting_Cake_II',\n",
       "  'Find_the_Occurrence_of_First_Almost_Equal_Substring',\n",
       "  'Merge_k_Sorted_Lists',\n",
       "  'Scramble_String',\n",
       "  'Minimum_Sum_of_Values_by_Dividing_Array',\n",
       "  'Regular_Expression_Matching',\n",
       "  'Maximize_the_Number_of_Partitions_After_Operations',\n",
       "  'Substring_with_Concatenation_of_All_Words',\n",
       "  'Permutation_Sequence',\n",
       "  'Find_Subarray_With_Bitwise_OR_Closest_to_K',\n",
       "  'Trapping_Rain_Water',\n",
       "  'Count_Prefix_and_Suffix_Pairs_II',\n",
       "  'Longest_Common_Suffix_Queries',\n",
       "  'Number_of_Subarrays_That_Match_a_Pattern_II',\n",
       "  'Median_of_Two_Sorted_Arrays',\n",
       "  'Minimum_Number_of_Valid_Strings_to_Form_Target_II',\n",
       "  'Text_Justification',\n",
       "  'Find_Beautiful_Indices_in_the_Given_Array_II',\n",
       "  'Longest_Valid_Parentheses',\n",
       "  'First_Missing_Positive',\n",
       "  'Maximum_Sum_of_Subsequence_With_Non-adjacent_Elements',\n",
       "  'Wildcard_Matching',\n",
       "  'N-Queens',\n",
       "  'Find_the_Largest_Palindrome_Divisible_by_K',\n",
       "  'Maximal_Rectangle']}"
      ]
     },
     "execution_count": 7,
     "metadata": {},
     "output_type": "execute_result"
    }
   ],
   "execution_count": 7
  },
  {
   "metadata": {
    "ExecuteTime": {
     "end_time": "2024-12-02T08:29:27.071225Z",
     "start_time": "2024-12-02T08:29:27.068446Z"
    }
   },
   "cell_type": "code",
   "source": [
    "##significant_tasksPython=set(human_comparisonPython[\"4o\"]).union(human_comparisonPython[\"o1\"]).union(human_comparisonPython[\"copilot\"])\n",
    "#len(significant_tasksPython)\n",
    "sig_Python_4o=len(human_comparisonPython[\"4o\"])/number_tasks_4o\n",
    "print(number_tasks_4o)\n",
    "sig_Python_o1=len(human_comparisonPython[\"o1\"])/number_tasks_o1\n",
    "print(number_tasks_o1)\n",
    "sig_Python_copilot=len(human_comparisonPython[\"copilot\"])/number_tasks_copilot\n",
    "print(number_tasks_copilot)\n"
   ],
   "id": "4920d5ed4e4f2d64",
   "outputs": [
    {
     "name": "stdout",
     "output_type": "stream",
     "text": [
      "34\n",
      "36\n",
      "32\n"
     ]
    }
   ],
   "execution_count": 6
  },
  {
   "metadata": {
    "ExecuteTime": {
     "end_time": "2024-12-02T09:13:08.410579Z",
     "start_time": "2024-12-02T09:13:08.401583Z"
    }
   },
   "cell_type": "code",
   "source": [
    "with open('../Results/resultsJava.json') as json_file:\n",
    "    dataJava = json.load(json_file)"
   ],
   "id": "159c686bef656f47",
   "outputs": [],
   "execution_count": 9
  },
  {
   "metadata": {
    "ExecuteTime": {
     "end_time": "2024-12-02T09:13:09.203631Z",
     "start_time": "2024-12-02T09:13:09.178327Z"
    }
   },
   "cell_type": "code",
   "source": [
    "from scipy.stats import mannwhitneyu\n",
    "human_comparisonJava={\"4o\": [], \"o1\":[], \"copilot\": []}\n",
    "number_tasks_4o_Java=0\n",
    "number_tasks_o1_Java=0\n",
    "number_tasks_copilot_Java=0\n",
    "for task in dataJava.keys():\n",
    "    if np.mean(dataJava[task][\"human\"][\"Energy Linux\"])>15 and np.mean(dataJava[task][\"4o\"][\"Energy Linux\"])>15:\n",
    "        number_tasks_4o_Java+=1\n",
    "        U1, p = mannwhitneyu(dataJava[task][\"human\"][\"Energy Linux\"], dataJava[task][\"4o\"][\"Energy Linux\"], method=\"exact\")\n",
    "        print(\"4o: \"+ str(task)+\": \"+str(p))\n",
    "        if p<0.0001:\n",
    "            human_comparisonJava[\"4o\"].append(task)\n",
    "    if np.mean(dataJava[task][\"human\"][\"Energy Linux\"])>15 and np.mean(dataJava[task][\"o1\"][\"Energy Linux\"])>15:\n",
    "        number_tasks_o1_Java+=1\n",
    "        U1, p = mannwhitneyu(dataJava[task][\"human\"][\"Energy Linux\"], dataJava[task][\"o1\"][\"Energy Linux\"], method=\"exact\")\n",
    "        print(\"o1: \"+ str(task)+\": \"+str(p))\n",
    "        if p<0.0001:\n",
    "            human_comparisonJava[\"o1\"].append(task)\n",
    "    if np.mean(dataJava[task][\"human\"][\"Energy Linux\"])>15 and np.mean(dataJava[task][\"copilot\"][\"Energy Linux\"])>15:\n",
    "        number_tasks_copilot_Java+=1\n",
    "        U1, p = mannwhitneyu(dataJava[task][\"human\"][\"Energy Linux\"], dataJava[task][\"copilot\"][\"Energy Linux\"], method=\"exact\")\n",
    "        print(\"copilot: \"+ str(task)+\": \"+str(p))\n",
    "        if p<0.0001:\n",
    "            human_comparisonJava[\"copilot\"].append(task)"
   ],
   "id": "d403d86bcbdf64b1",
   "outputs": [
    {
     "name": "stdout",
     "output_type": "stream",
     "text": [
      "o1: Sorted_GCD_Pair_Queries: 2.835142154027603e-06\n",
      "o1: NQueens_II: 2.835142154027603e-06\n",
      "4o: Number_of_Subarrays_With_AND_Value_of_K: 2.835142154027603e-06\n",
      "o1: Number_of_Subarrays_With_AND_Value_of_K: 1.9845995078193222e-05\n",
      "copilot: Number_of_Subarrays_With_AND_Value_of_K: 2.835142154027603e-06\n",
      "4o: Count_Substrings_That_Satisfy_KConstraint_II: 0.05566801619433198\n",
      "copilot: Count_Substrings_That_Satisfy_KConstraint_II: 0.07589108517901089\n",
      "4o: Find_Edges_in_Shortest_Paths: 2.835142154027603e-06\n",
      "o1: Find_Edges_in_Shortest_Paths: 2.835142154027603e-06\n",
      "4o: Find_the_Median_of_the_Uniqueness_Array: 2.835142154027603e-06\n",
      "o1: Find_the_Median_of_the_Uniqueness_Array: 2.835142154027603e-06\n",
      "copilot: Find_the_Median_of_the_Uniqueness_Array: 2.835142154027603e-06\n",
      "4o: Minimum_Cost_for_Cutting_Cake_II: 2.835142154027603e-06\n",
      "o1: Minimum_Cost_for_Cutting_Cake_II: 2.835142154027603e-06\n",
      "o1: Count_Substrings_That_Can_Be_Rearranged_to_Contain_a_String_II: 2.835142154027603e-06\n",
      "4o: Minimum_Window_Substring: 2.835142154027603e-06\n",
      "o1: Minimum_Window_Substring: 2.835142154027603e-06\n",
      "copilot: Minimum_Window_Substring: 2.835142154027603e-06\n",
      "4o: Scramble_String: 2.835142154027603e-06\n",
      "o1: Scramble_String: 2.835142154027603e-06\n",
      "copilot: Scramble_String: 2.835142154027603e-06\n",
      "o1: Minimum_Sum_of_Values_by_Dividing_Array: 2.835142154027603e-06\n",
      "copilot: Minimum_Sum_of_Values_by_Dividing_Array: 2.835142154027603e-06\n",
      "4o: Regular_Expression_Matching: 2.835142154027603e-06\n",
      "o1: Regular_Expression_Matching: 2.835142154027603e-06\n",
      "copilot: Regular_Expression_Matching: 2.835142154027603e-06\n",
      "o1: Maximum_Number_of_Moves_to_Kill_All_Pawns: 2.835142154027603e-06\n",
      "4o: Substring_with_Concatenation_of_All_Words: 0.07589108517901089\n",
      "o1: Substring_with_Concatenation_of_All_Words: 3.402170584833124e-05\n",
      "copilot: Substring_with_Concatenation_of_All_Words: 0.008329647648533098\n",
      "4o: Reverse_Nodes_in_kGroup: 0.5618883180802685\n",
      "o1: Reverse_Nodes_in_kGroup: 0.019230769230769232\n",
      "copilot: Reverse_Nodes_in_kGroup: 0.5190323092799872\n",
      "4o: Permutation_Sequence: 2.835142154027603e-06\n",
      "o1: Permutation_Sequence: 2.835142154027603e-06\n",
      "copilot: Permutation_Sequence: 2.835142154027603e-06\n",
      "4o: Find_Subarray_With_Bitwise_OR_Closest_to_K: 0.1512746799124508\n",
      "o1: Find_Subarray_With_Bitwise_OR_Closest_to_K: 2.835142154027603e-06\n",
      "copilot: Find_Subarray_With_Bitwise_OR_Closest_to_K: 1.9845995078193222e-05\n",
      "4o: Trapping_Rain_Water: 0.5618883180802685\n",
      "o1: Trapping_Rain_Water: 0.29998639131766064\n",
      "copilot: Trapping_Rain_Water: 0.5618883180802685\n",
      "4o: Count_Prefix_and_Suffix_Pairs_II: 2.835142154027603e-06\n",
      "o1: Count_Prefix_and_Suffix_Pairs_II: 2.835142154027603e-06\n",
      "copilot: Count_Prefix_and_Suffix_Pairs_II: 2.835142154027603e-06\n",
      "4o: Largest_Rectangle_in_Histogram: 2.835142154027603e-06\n",
      "o1: Largest_Rectangle_in_Histogram: 2.835142154027603e-06\n",
      "copilot: Largest_Rectangle_in_Histogram: 2.835142154027603e-06\n",
      "4o: Select_Cells_in_Grid_With_Maximum_Score: 2.835142154027603e-06\n",
      "copilot: Select_Cells_in_Grid_With_Maximum_Score: 2.835142154027603e-06\n",
      "4o: Longest_Common_Suffix_Queries: 2.835142154027603e-06\n",
      "copilot: Longest_Common_Suffix_Queries: 2.835142154027603e-06\n",
      "4o: Number_of_Subarrays_That_Match_a_Pattern_II: 2.835142154027603e-06\n",
      "o1: Number_of_Subarrays_That_Match_a_Pattern_II: 0.4384632395468308\n",
      "copilot: Number_of_Subarrays_That_Match_a_Pattern_II: 2.835142154027603e-06\n",
      "4o: Median_of_Two_Sorted_Arrays: 0.6993530205604509\n",
      "o1: Median_of_Two_Sorted_Arrays: 0.6063178307760351\n",
      "copilot: Median_of_Two_Sorted_Arrays: 0.02806507218271924\n",
      "o1: Minimum_Amount_of_Damage_Dealt_to_Bob: 0.0010404971705281303\n",
      "4o: Distinct_Subsequences: 2.835142154027603e-06\n",
      "o1: Distinct_Subsequences: 2.835142154027603e-06\n",
      "copilot: Distinct_Subsequences: 2.835142154027603e-06\n",
      "o1: Minimum_Number_of_Valid_Strings_to_Form_Target_II: 2.835142154027603e-06\n",
      "4o: Shortest_Distance_After_Road_Addition_Queries_II: 2.835142154027603e-06\n",
      "o1: Shortest_Distance_After_Road_Addition_Queries_II: 2.835142154027603e-06\n",
      "4o: Text_Justification: 2.835142154027603e-06\n",
      "o1: Text_Justification: 2.835142154027603e-06\n",
      "copilot: Text_Justification: 2.835142154027603e-06\n",
      "4o: Find_Beautiful_Indices_in_the_Given_Array_II: 2.835142154027603e-06\n",
      "o1: Find_Beautiful_Indices_in_the_Given_Array_II: 2.835142154027603e-06\n",
      "copilot: Find_Beautiful_Indices_in_the_Given_Array_II: 2.835142154027603e-06\n",
      "4o: Longest_Valid_Parentheses: 2.835142154027603e-06\n",
      "o1: Longest_Valid_Parentheses: 2.835142154027603e-06\n",
      "copilot: Longest_Valid_Parentheses: 2.835142154027603e-06\n",
      "4o: Construct_String_with_Minimum_Cost: 2.835142154027603e-06\n",
      "o1: Construct_String_with_Minimum_Cost: 2.835142154027603e-06\n",
      "copilot: Construct_String_with_Minimum_Cost: 2.835142154027603e-06\n",
      "4o: First_Missing_Positive: 2.835142154027603e-06\n",
      "o1: First_Missing_Positive: 2.835142154027603e-06\n",
      "copilot: First_Missing_Positive: 2.835142154027603e-06\n",
      "4o: Find_Number_of_Coins_to_Place_in_Tree_Nodes: 2.835142154027603e-06\n",
      "o1: Find_Number_of_Coins_to_Place_in_Tree_Nodes: 0.0001899545243198494\n",
      "4o: Wildcard_Matching: 0.0007654883815874529\n",
      "o1: Wildcard_Matching: 0.02806507218271924\n",
      "copilot: Wildcard_Matching: 2.835142154027603e-06\n",
      "4o: NQueens: 2.835142154027603e-06\n",
      "o1: NQueens: 2.835142154027603e-06\n",
      "copilot: NQueens: 2.835142154027603e-06\n",
      "4o: Find_the_Largest_Palindrome_Divisible_by_K: 2.835142154027603e-06\n",
      "4o: Maximal_Rectangle: 0.7476581725807732\n",
      "o1: Maximal_Rectangle: 0.0002750087889406775\n",
      "copilot: Maximal_Rectangle: 0.0031810294968189707\n"
     ]
    }
   ],
   "execution_count": 10
  },
  {
   "metadata": {
    "ExecuteTime": {
     "end_time": "2024-10-30T20:12:59.776371Z",
     "start_time": "2024-10-30T20:12:59.773606Z"
    }
   },
   "cell_type": "code",
   "source": [
    "#significant_tasksJava=set(human_comparisonJava[\"4o\"]).union(human_comparisonJava[\"o1\"]).union(human_comparisonJava[\"copilot\"])\n",
    "#len(significant_tasksJava)\n",
    "sig_Java_4o=len(human_comparisonJava[\"4o\"])/number_tasks_4o_Java\n",
    "print(number_tasks_4o_Java)\n",
    "sig_Java_o1=len(human_comparisonJava[\"o1\"])/number_tasks_o1_Java\n",
    "print(number_tasks_o1_Java)\n",
    "sig_Java_copilot=len(human_comparisonJava[\"copilot\"])/number_tasks_copilot_Java\n",
    "print(number_tasks_copilot_Java)"
   ],
   "id": "bb87807fbd0cae6c",
   "outputs": [
    {
     "name": "stdout",
     "output_type": "stream",
     "text": [
      "31\n",
      "34\n",
      "27\n"
     ]
    }
   ],
   "execution_count": 7
  },
  {
   "metadata": {
    "ExecuteTime": {
     "end_time": "2024-12-02T09:41:00.132772Z",
     "start_time": "2024-12-02T09:41:00.126853Z"
    }
   },
   "cell_type": "code",
   "source": [
    "with open('../Results/resultsC.json') as json_file:\n",
    "    dataC = json.load(json_file)"
   ],
   "id": "8acafb79e4298cf7",
   "outputs": [],
   "execution_count": 12
  },
  {
   "metadata": {
    "ExecuteTime": {
     "end_time": "2024-12-02T09:41:00.644441Z",
     "start_time": "2024-12-02T09:41:00.621781Z"
    }
   },
   "cell_type": "code",
   "source": [
    "from scipy.stats import mannwhitneyu\n",
    "human_comparisonC={\"4o\": [], \"o1\":[], \"copilot\": []}\n",
    "number_tasks_4o_C=0\n",
    "number_tasks_o1_C=0\n",
    "number_tasks_copilot_C=0\n",
    "for task in dataC.keys():\n",
    "    if np.mean(dataC[task][\"human\"][\"Energy Linux\"])>12 and np.mean(dataC[task][\"4o\"][\"Energy Linux\"])>12:\n",
    "        number_tasks_4o_C+=1\n",
    "        U1, p = mannwhitneyu(dataC[task][\"human\"][\"Energy Linux\"], dataC[task][\"4o\"][\"Energy Linux\"], method=\"exact\")\n",
    "        print(\"4o: \"+ str(task)+\": \"+str(p))\n",
    "        if p<0.0001:\n",
    "            human_comparisonC[\"4o\"].append(task)\n",
    "    if np.mean(dataC[task][\"human\"][\"Energy Linux\"])>12 and np.mean(dataC[task][\"o1\"][\"Energy Linux\"])>12:\n",
    "        number_tasks_o1_C+=1\n",
    "        U1, p = mannwhitneyu(dataC[task][\"human\"][\"Energy Linux\"], dataC[task][\"o1\"][\"Energy Linux\"], method=\"exact\")\n",
    "        print(\"o1: \"+ str(task)+\": \"+str(p))\n",
    "        if p<0.0001:\n",
    "            human_comparisonC[\"o1\"].append(task)\n",
    "    if np.mean(dataC[task][\"human\"][\"Energy Linux\"])>12 and np.mean(dataC[task][\"copilot\"][\"Energy Linux\"])>12:\n",
    "        number_tasks_copilot_C+=1\n",
    "        U1, p = mannwhitneyu(dataC[task][\"human\"][\"Energy Linux\"], dataC[task][\"copilot\"][\"Energy Linux\"], method=\"exact\")\n",
    "        print(\"copilot: \"+ str(task)+\": \"+str(p))\n",
    "        if p<0.0001:\n",
    "            human_comparisonC[\"copilot\"].append(task)"
   ],
   "id": "7ec3dc65a29d7d6b",
   "outputs": [
    {
     "name": "stdout",
     "output_type": "stream",
     "text": [
      "4o: N-Queens_II: 1.082508822446903e-05\n",
      "o1: N-Queens_II: 1.082508822446903e-05\n",
      "o1: Number_of_Subarrays_With_AND_Value_of_K: 1.082508822446903e-05\n",
      "4o: Count_Substrings_That_Satisfy_K-Constraint_II: 1.082508822446903e-05\n",
      "copilot: Count_Substrings_That_Satisfy_K-Constraint_II: 1.082508822446903e-05\n",
      "4o: Find_Edges_in_Shortest_Paths: 0.8534283054406895\n",
      "o1: Find_Edges_in_Shortest_Paths: 1.082508822446903e-05\n",
      "4o: Find_the_Median_of_the_Uniqueness_Array: 1.082508822446903e-05\n",
      "4o: Minimum_Cost_for_Cutting_Cake_II: 1.082508822446903e-05\n",
      "copilot: Minimum_Cost_for_Cutting_Cake_II: 1.082508822446903e-05\n",
      "o1: Count_Substrings_That_Can_Be_Rearranged_to_Contain_a_String_II: 1.082508822446903e-05\n",
      "4o: Merge_k_Sorted_Lists: 1.082508822446903e-05\n",
      "o1: Merge_k_Sorted_Lists: 1.082508822446903e-05\n",
      "copilot: Merge_k_Sorted_Lists: 1.082508822446903e-05\n",
      "4o: Sudoku_Solver: 1.082508822446903e-05\n",
      "o1: Sudoku_Solver: 1.082508822446903e-05\n",
      "o1: Minimum_Window_Substring: 1.082508822446903e-05\n",
      "4o: Regular_Expression_Matching: 1.082508822446903e-05\n",
      "o1: Regular_Expression_Matching: 1.082508822446903e-05\n",
      "copilot: Regular_Expression_Matching: 1.082508822446903e-05\n",
      "4o: Substring_with_Concatenation_of_All_Words: 1.082508822446903e-05\n",
      "o1: Substring_with_Concatenation_of_All_Words: 1.082508822446903e-05\n",
      "o1: Reverse_Nodes_in_k-Group: 1.082508822446903e-05\n",
      "copilot: Reverse_Nodes_in_k-Group: 1.082508822446903e-05\n",
      "4o: Permutation_Sequence: 0.006841455757864427\n",
      "o1: Permutation_Sequence: 1.082508822446903e-05\n",
      "copilot: Permutation_Sequence: 4.330035289787612e-05\n",
      "o1: Count_Prefix_and_Suffix_Pairs_II: 1.082508822446903e-05\n",
      "copilot: Count_Prefix_and_Suffix_Pairs_II: 1.082508822446903e-05\n",
      "o1: Largest_Rectangle_in_Histogram: 1.082508822446903e-05\n",
      "copilot: Largest_Rectangle_in_Histogram: 1.082508822446903e-05\n",
      "4o: Select_Cells_in_Grid_With_Maximum_Score: 1.082508822446903e-05\n",
      "o1: Select_Cells_in_Grid_With_Maximum_Score: 1.082508822446903e-05\n",
      "4o: Longest_Common_Suffix_Queries: 1.082508822446903e-05\n",
      "copilot: Longest_Common_Suffix_Queries: 1.082508822446903e-05\n",
      "4o: Median_of_Two_Sorted_Arrays: 0.023230639329710537\n",
      "o1: Median_of_Two_Sorted_Arrays: 0.04325705254497823\n",
      "copilot: Median_of_Two_Sorted_Arrays: 0.19031587607439004\n",
      "o1: Minimum_Amount_of_Damage_Dealt_to_Bob: 1.082508822446903e-05\n",
      "4o: Distinct_Subsequences: 1.082508822446903e-05\n",
      "o1: Distinct_Subsequences: 1.082508822446903e-05\n",
      "copilot: Distinct_Subsequences: 1.082508822446903e-05\n",
      "o1: Minimum_Number_of_Valid_Strings_to_Form_Target_II: 1.082508822446903e-05\n",
      "copilot: Minimum_Number_of_Valid_Strings_to_Form_Target_II: 1.082508822446903e-05\n",
      "4o: Shortest_Distance_After_Road_Addition_Queries_II: 1.082508822446903e-05\n",
      "o1: Shortest_Distance_After_Road_Addition_Queries_II: 1.082508822446903e-05\n",
      "4o: Text_Justification: 0.19031587607439004\n",
      "o1: Text_Justification: 0.00012990105869362836\n",
      "copilot: Text_Justification: 0.00012990105869362836\n",
      "4o: Find_Beautiful_Indices_in_the_Given_Array_II: 1.082508822446903e-05\n",
      "o1: Find_Beautiful_Indices_in_the_Given_Array_II: 1.082508822446903e-05\n",
      "copilot: Find_Beautiful_Indices_in_the_Given_Array_II: 1.082508822446903e-05\n",
      "o1: Longest_Valid_Parentheses: 1.082508822446903e-05\n",
      "copilot: Longest_Valid_Parentheses: 1.082508822446903e-05\n",
      "4o: Find_Number_of_Coins_to_Place_in_Tree_Nodes: 1.082508822446903e-05\n",
      "o1: Find_Number_of_Coins_to_Place_in_Tree_Nodes: 1.082508822446903e-05\n",
      "o1: Maximum_Sum_of_Subsequence_With_Non-adjacent_Elements: 1.082508822446903e-05\n",
      "copilot: Maximum_Sum_of_Subsequence_With_Non-adjacent_Elements: 1.082508822446903e-05\n",
      "4o: Wildcard_Matching: 1.082508822446903e-05\n",
      "o1: Wildcard_Matching: 1.082508822446903e-05\n",
      "o1: N-Queens: 1.082508822446903e-05\n",
      "4o: Maximal_Rectangle: 1.082508822446903e-05\n",
      "o1: Maximal_Rectangle: 1.082508822446903e-05\n",
      "copilot: Maximal_Rectangle: 1.082508822446903e-05\n"
     ]
    }
   ],
   "execution_count": 13
  },
  {
   "metadata": {
    "ExecuteTime": {
     "end_time": "2024-10-30T20:13:03.355428Z",
     "start_time": "2024-10-30T20:13:03.353003Z"
    }
   },
   "cell_type": "code",
   "source": [
    "#significant_tasksC=set(human_comparisonC[\"4o\"]).union(human_comparisonC[\"o1\"]).union(human_comparisonC[\"copilot\"])\n",
    "#len(significant_tasksC)\n",
    "sig_C_40=len(human_comparisonC[\"4o\"])/number_tasks_4o_C\n",
    "print(number_tasks_4o_C)\n",
    "sig_C_o1=len(human_comparisonC[\"o1\"])/number_tasks_o1_C\n",
    "print(number_tasks_o1_C)\n",
    "sig_C_copilot=len(human_comparisonC[\"copilot\"])/number_tasks_copilot_C\n",
    "print(number_tasks_copilot_C)"
   ],
   "id": "8fccd6963ef38b4e",
   "outputs": [
    {
     "name": "stdout",
     "output_type": "stream",
     "text": [
      "20\n",
      "27\n",
      "17\n"
     ]
    }
   ],
   "execution_count": 10
  },
  {
   "metadata": {
    "ExecuteTime": {
     "end_time": "2024-10-30T20:13:35.317890Z",
     "start_time": "2024-10-30T20:13:35.001845Z"
    }
   },
   "cell_type": "code",
   "source": [
    "import seaborn as sns\n",
    "import pandas as pd\n",
    "significant_tasks={'o1-mini': [sig_Python_o1, sig_Java_o1, sig_C_o1], '4o': [sig_Python_4o, sig_Java_4o, sig_C_40], 'copilot': [sig_Python_copilot, sig_Java_copilot, sig_C_copilot]}\n",
    "df=pd.DataFrame(significant_tasks)\n",
    "svm=sns.heatmap(data=df,yticklabels=[\"Python\", \"Java\", \"C++\"], annot=True, fmt=\".2f\", cmap=\"vlag\", vmax=1, vmin=0)\n",
    "figure = svm.get_figure()    \n",
    "figure.savefig('./Heatmaps/statistical_significance.png', dpi=400)"
   ],
   "id": "2063246da97fcbcf",
   "outputs": [
    {
     "data": {
      "text/plain": [
       "<Figure size 640x480 with 2 Axes>"
      ],
      "image/png": "[encoded data removed]"
     },
     "metadata": {},
     "output_type": "display_data"
    }
   ],
   "execution_count": 12
  },
  {
   "metadata": {
    "ExecuteTime": {
     "end_time": "2024-12-03T10:23:30.268943Z",
     "start_time": "2024-12-03T10:23:30.260122Z"
    }
   },
   "cell_type": "code",
   "source": [
    "with open('../Results/resultsPython.json') as json_file:\n",
    "    dataPython = json.load(json_file)\n",
    "with open('../Results/resultsJava.json') as json_file:\n",
    "    dataJava = json.load(json_file)\n",
    "with open('../Results/resultsC.json') as json_file:\n",
    "    dataC = json.load(json_file)"
   ],
   "id": "41e1b80afa3a28ef",
   "outputs": [],
   "execution_count": 13
  },
  {
   "metadata": {
    "ExecuteTime": {
     "end_time": "2024-12-03T10:23:30.591525Z",
     "start_time": "2024-12-03T10:23:30.585958Z"
    }
   },
   "cell_type": "code",
   "source": [
    "def significance(dataPython):\n",
    "    human_comparison={\"human\":[],\"4o\": [], \"o1\":[], \"copilot\": []}\n",
    "    for task in dataPython.keys():\n",
    "        if np.mean(dataPython[task][\"human\"][\"Energy Linux\"])>12 and np.mean(dataPython[task][\"4o\"][\"Energy Linux\"])>12 and np.mean(dataPython[task][\"o1\"][\"Energy Linux\"])>12 and np.mean(dataPython[task][\"copilot\"][\"Energy Linux\"])>12:\n",
    "            human_comparison[\"human\"].append(np.mean(dataPython[task][\"human\"][\"Energy Linux\"]).item())\n",
    "            human_comparison[\"4o\"].append(np.mean(dataPython[task][\"4o\"][\"Energy Linux\"]).item())\n",
    "            human_comparison[\"o1\"].append(np.mean(dataPython[task][\"o1\"][\"Energy Linux\"]).item())\n",
    "            human_comparison[\"copilot\"].append(np.mean(dataPython[task][\"copilot\"][\"Energy Linux\"]).item())\n",
    "    _, p = mannwhitneyu(human_comparison[\"human\"], human_comparison[\"4o\"], method=\"exact\")\n",
    "    print(\"human and 4o: \"+ str(p))\n",
    "    _, p = mannwhitneyu(human_comparison[\"human\"], human_comparison[\"o1\"], method=\"exact\")\n",
    "    print(\"human and o1: \"+ str(p))\n",
    "    _, p = mannwhitneyu(human_comparison[\"human\"], human_comparison[\"copilot\"], method=\"exact\")\n",
    "    print(\"human and copilot: \"+ str(p))"
   ],
   "id": "2a76103c2b659696",
   "outputs": [],
   "execution_count": 14
  },
  {
   "metadata": {
    "ExecuteTime": {
     "end_time": "2024-12-03T10:24:07.514603Z",
     "start_time": "2024-12-03T10:24:07.505147Z"
    }
   },
   "cell_type": "code",
   "source": [
    "print(\"------Python-------\")\n",
    "significance(dataPython)\n",
    "print(\"------Java-------\")\n",
    "significance(dataJava)\n",
    "print(\"------C++-------\")\n",
    "significance(dataC)"
   ],
   "id": "cffe809d28abf68d",
   "outputs": [
    {
     "name": "stdout",
     "output_type": "stream",
     "text": [
      "------Python-------\n",
      "human and 4o: 0.31257582650767657\n",
      "human and o1: 0.1987473727631596\n",
      "human and copilot: 0.14674685488051648\n",
      "------Java-------\n",
      "human and 4o: 0.8108589449902447\n",
      "human and o1: 0.48569179712181304\n",
      "human and copilot: 0.896155071405668\n",
      "------C++-------\n",
      "human and 4o: 0.2786324786324786\n",
      "human and o1: 0.8784770784770783\n",
      "human and copilot: 0.4418026418026417\n"
     ]
    }
   ],
   "execution_count": 16
  },
  {
   "metadata": {},
   "cell_type": "code",
   "outputs": [],
   "execution_count": null,
   "source": "",
   "id": "68a6e4a59884da9d"
  }
 ],
 "metadata": {
  "kernelspec": {
   "display_name": "Python 3",
   "language": "python",
   "name": "python3"
  },
  "language_info": {
   "codemirror_mode": {
    "name": "ipython",
    "version": 2
   },
   "file_extension": ".py",
   "mimetype": "text/x-python",
   "name": "python",
   "nbconvert_exporter": "python",
   "pygments_lexer": "ipython2",
   "version": "2.7.6"
  }
 },
 "nbformat": 4,
 "nbformat_minor": 5
}
