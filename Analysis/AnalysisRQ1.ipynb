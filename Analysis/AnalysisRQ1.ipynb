{
 "cells": [
  {
   "cell_type": "code",
   "id": "initial_id",
   "metadata": {
    "collapsed": true,
    "ExecuteTime": {
     "end_time": "2024-12-06T11:55:53.918198Z",
     "start_time": "2024-12-06T11:55:53.914883Z"
    }
   },
   "source": [
    "import json\n",
    "import matplotlib.pyplot as plt\n",
    "from sklearn import preprocessing\n",
    "import numpy as np\n",
    "from scipy.stats import mannwhitneyu, ttest_rel\n",
    "import pingouin"
   ],
   "outputs": [],
   "execution_count": 259
  },
  {
   "metadata": {
    "ExecuteTime": {
     "end_time": "2024-12-06T16:10:01.739249Z",
     "start_time": "2024-12-06T16:10:01.734233Z"
    }
   },
   "cell_type": "code",
   "source": [
    "with open('../Results/resultsJava.json') as json_file:\n",
    "    dataPython = json.load(json_file)"
   ],
   "id": "78b97acb5c9a3f64",
   "outputs": [],
   "execution_count": 357
  },
  {
   "metadata": {
    "ExecuteTime": {
     "end_time": "2024-12-06T16:20:33.703134Z",
     "start_time": "2024-12-06T16:20:33.673184Z"
    }
   },
   "cell_type": "code",
   "source": [
    "meanDiffPython={\"o1\": [], \"4o\": [], \"copilot\": []}\n",
    "meanEnergy={\"o1\": [], \"4o\": [], \"copilot\": []}\n",
    "meanHuman={\"o1\": [], \"4o\": [], \"copilot\": []}\n",
    "for task in dataPython.keys():\n",
    "    for model in meanDiffPython.keys():\n",
    "        if np.mean(dataPython[task][model][\"Energy Linux\"]).item()>25 and np.mean(dataPython[task][\"human\"][\"Energy Linux\"]).item()>25:\n",
    "            U1, p = mannwhitneyu(dataPython[task][\"human\"][\"Energy Linux\"], dataPython[task][model][\"Energy Linux\"], method=\"exact\")\n",
    "            if p<0.0001 and np.mean(dataPython[task][model][\"Energy Linux\"])<1000:\n",
    "                meanEnergy[model].append(np.mean(dataPython[task][model][\"Time Linux\"]).item())\n",
    "                meanHuman[model].append(np.mean(dataPython[task][\"human\"][\"Time Linux\"]).item())"
   ],
   "id": "193b5d867c416f8a",
   "outputs": [],
   "execution_count": 369
  },
  {
   "metadata": {
    "ExecuteTime": {
     "end_time": "2024-12-06T16:20:34.011397Z",
     "start_time": "2024-12-06T16:20:34.008047Z"
    }
   },
   "cell_type": "code",
   "source": "meanEnergy[\"o1\"]",
   "id": "2ebcfb1c9e870bdc",
   "outputs": [
    {
     "data": {
      "text/plain": [
       "[30.061578380181814,\n",
       " 6.5152538909999995,\n",
       " 14.787236381909093,\n",
       " 14.01849012090909,\n",
       " 3.5168909087272726,\n",
       " 10.48426457909091,\n",
       " 3.850968882545455,\n",
       " 9.488758305727272,\n",
       " 2.025541613909091,\n",
       " 9.865470183090908,\n",
       " 7.808429602636363,\n",
       " 4.803715048454546,\n",
       " 15.677724479727273,\n",
       " 1.417357968909091,\n",
       " 5.251913892454545,\n",
       " 10.534849900636363,\n",
       " 5.762015634272728,\n",
       " 5.1986320549090905,\n",
       " 23.566924211818186,\n",
       " 18.295617732181817,\n",
       " 4.097310065454545]"
      ]
     },
     "execution_count": 370,
     "metadata": {},
     "output_type": "execute_result"
    }
   ],
   "execution_count": 370
  },
  {
   "metadata": {
    "ExecuteTime": {
     "end_time": "2024-12-06T16:20:34.446317Z",
     "start_time": "2024-12-06T16:20:34.438971Z"
    }
   },
   "cell_type": "code",
   "source": [
    "print(\"----4o-----\")\n",
    "print(np.mean(np.divide(meanEnergy[\"4o\"],meanHuman[\"4o\"])).item()*100)\n",
    "print(np.std(np.divide(meanEnergy[\"4o\"],meanHuman[\"4o\"])).item()*100)\n",
    "print(\"Effect_size: \",pingouin.compute_effsize( meanEnergy[\"4o\"],meanHuman[\"4o\"], eftype='hedges'))\n",
    "_, p = mannwhitneyu(meanEnergy[\"4o\"],meanHuman[\"4o\"], method=\"exact\")\n",
    "print(\"p-value:\", p)\n",
    "print(\"----copilot-----\")\n",
    "print(np.mean(np.divide(meanEnergy[\"copilot\"],meanHuman[\"copilot\"])).item()*100)\n",
    "print(np.std(np.divide(meanEnergy[\"copilot\"],meanHuman[\"copilot\"])).item()*100)\n",
    "print(\"Effect_size: \",pingouin.compute_effsize( meanEnergy[\"copilot\"], meanHuman[\"copilot\"],eftype='hedges'))\n",
    "_, p = mannwhitneyu(meanEnergy[\"copilot\"],meanHuman[\"copilot\"], method=\"exact\")\n",
    "print(\"p-value:\", p)\n",
    "print(\"----o1-----\")\n",
    "print(np.mean(np.divide(meanEnergy[\"o1\"],meanHuman[\"o1\"])).item()*100)\n",
    "print(np.std(np.divide(meanEnergy[\"o1\"],meanHuman[\"o1\"])).item()*100)\n",
    "print(\"Effect_size: \", pingouin.compute_effsize( meanEnergy[\"o1\"],meanHuman[\"o1\"], eftype='hedges'))\n",
    "_, p = mannwhitneyu(meanEnergy[\"o1\"],meanHuman[\"o1\"], method=\"exact\")\n",
    "print(\"p-value:\", p)"
   ],
   "id": "a3a7f0e2a3628cd2",
   "outputs": [
    {
     "name": "stdout",
     "output_type": "stream",
     "text": [
      "----4o-----\n",
      "148.94981992596252\n",
      "122.1415388673265\n",
      "Effect_size:  0.3560870567375511\n",
      "p-value: 0.707515794068002\n",
      "----copilot-----\n",
      "116.6319055072111\n",
      "105.33279318787466\n",
      "Effect_size:  0.06824038093428729\n",
      "p-value: 0.27878391256601975\n",
      "----o1-----\n",
      "113.84594494197937\n",
      "60.96222469194108\n",
      "Effect_size:  0.1864328794993727\n",
      "p-value: 0.7842459577450265\n"
     ]
    }
   ],
   "execution_count": 371
  },
  {
   "metadata": {
    "ExecuteTime": {
     "end_time": "2024-12-06T16:21:10.632802Z",
     "start_time": "2024-12-06T16:21:10.612715Z"
    }
   },
   "cell_type": "code",
   "source": [
    "meanDiffPython={\"o1\": [], \"4o\": [], \"copilot\": []}\n",
    "meanEnergy={\"o1\": [], \"4o\": [], \"copilot\": []}\n",
    "meanHuman={\"o1\": [], \"4o\": [], \"copilot\": []}\n",
    "for task in dataPython.keys():\n",
    "    for model in meanDiffPython.keys():\n",
    "        if np.mean(dataPython[task][model][\"Energy Linux\"]).item()>25 and np.mean(dataPython[task][\"human\"][\"Energy Linux\"]).item()>25:\n",
    "            U1, p = mannwhitneyu(dataPython[task][\"human\"][\"Energy\"], dataPython[task][model][\"Energy\"], method=\"exact\")\n",
    "            if p<0.0001 and np.mean(dataPython[task][model][\"Energy Linux\"])<1000:\n",
    "                meanEnergy[model].append(np.mean(dataPython[task][model][\"Time\"]).item())\n",
    "                meanHuman[model].append(np.mean(dataPython[task][\"human\"][\"Time\"]).item())"
   ],
   "id": "170e3a82cd491ab7",
   "outputs": [],
   "execution_count": 374
  },
  {
   "metadata": {
    "ExecuteTime": {
     "end_time": "2024-12-06T16:21:10.793880Z",
     "start_time": "2024-12-06T16:21:10.786049Z"
    }
   },
   "cell_type": "code",
   "source": [
    "print(\"----4o-----\")\n",
    "print(np.mean(np.divide(meanEnergy[\"4o\"],meanHuman[\"4o\"])).item()*100)\n",
    "print(np.std(np.divide(meanEnergy[\"4o\"],meanHuman[\"4o\"])).item()*100)\n",
    "print(\"Effect_size: \",pingouin.compute_effsize( meanEnergy[\"4o\"],meanHuman[\"4o\"], eftype='hedges'))\n",
    "_, p = mannwhitneyu(meanEnergy[\"4o\"],meanHuman[\"4o\"], method=\"exact\")\n",
    "print(\"p-value:\", p)\n",
    "print(\"----copilot-----\")\n",
    "print(np.mean(np.divide(meanEnergy[\"copilot\"],meanHuman[\"copilot\"])).item()*100)\n",
    "print(np.std(np.divide(meanEnergy[\"copilot\"],meanHuman[\"copilot\"])).item()*100)\n",
    "print(\"Effect_size: \",pingouin.compute_effsize( meanEnergy[\"copilot\"], meanHuman[\"copilot\"],eftype='hedges'))\n",
    "_, p = mannwhitneyu(meanEnergy[\"copilot\"],meanHuman[\"copilot\"], method=\"exact\")\n",
    "print(\"p-value:\", p)\n",
    "print(\"----o1-----\")\n",
    "print(np.mean(np.divide(meanEnergy[\"o1\"],meanHuman[\"o1\"])).item()*100)\n",
    "print(np.std(np.divide(meanEnergy[\"o1\"],meanHuman[\"o1\"])).item()*100)\n",
    "print(\"Effect_size: \", pingouin.compute_effsize( meanEnergy[\"o1\"],meanHuman[\"o1\"], eftype='hedges'))\n",
    "_, p = mannwhitneyu(meanEnergy[\"o1\"],meanHuman[\"o1\"], method=\"exact\")\n",
    "print(\"p-value:\", p)"
   ],
   "id": "30e721fd0f2488dc",
   "outputs": [
    {
     "name": "stdout",
     "output_type": "stream",
     "text": [
      "----4o-----\n",
      "131.96780848677045\n",
      "101.24906062419802\n",
      "Effect_size:  0.3027079020308743\n",
      "p-value: 0.8983289697848695\n",
      "----copilot-----\n",
      "112.47537403091228\n",
      "100.19693311559588\n",
      "Effect_size:  0.07406248290236123\n",
      "p-value: 0.42908164057750553\n",
      "----o1-----\n",
      "114.80426950659349\n",
      "83.94348155579637\n",
      "Effect_size:  0.1745783342904159\n",
      "p-value: 0.7437002659760502\n"
     ]
    }
   ],
   "execution_count": 375
  },
  {
   "metadata": {
    "ExecuteTime": {
     "end_time": "2024-10-30T20:10:20.303762Z",
     "start_time": "2024-10-30T20:10:20.297757Z"
    }
   },
   "cell_type": "code",
   "source": [
    "with open('../Results/resultsJava.json') as json_file:\n",
    "    dataJava = json.load(json_file)"
   ],
   "id": "12567aa1316ef5e9",
   "outputs": [],
   "execution_count": 5
  },
  {
   "metadata": {
    "ExecuteTime": {
     "end_time": "2024-10-30T20:10:21.265481Z",
     "start_time": "2024-10-30T20:10:21.233307Z"
    }
   },
   "cell_type": "code",
   "source": [
    "meanDiffJava={\"o1\": [], \"4o\": [], \"copilot\": []}\n",
    "for task in dataJava.keys():\n",
    "    for model in meanDiffJava.keys():\n",
    "        if np.mean(dataJava[task][model][\"Energy Linux\"]).item()> 12:\n",
    "            U1, p = mannwhitneyu(dataJava[task][\"human\"][\"Energy Linux\"], dataJava[task][model][\"Energy Linux\"], method=\"exact\")\n",
    "            if p<0.0001:\n",
    "                meanDiffJava[model].append(np.mean([yi-xi for xi, yi in zip(dataJava[task][\"human\"][\"Energy Linux\"], \n",
    "                                                                    dataJava[task][model][\"Energy Linux\"])]).item())"
   ],
   "id": "a18fb79d6abb3eff",
   "outputs": [],
   "execution_count": 6
  },
  {
   "metadata": {
    "ExecuteTime": {
     "end_time": "2024-10-30T20:10:21.717848Z",
     "start_time": "2024-10-30T20:10:21.713965Z"
    }
   },
   "cell_type": "code",
   "source": [
    "print([np.mean(meanDiffJava[x]).item() for x in meanDiffJava.keys()])\n",
    "print(meanDiffJava.keys())"
   ],
   "id": "d47645d1446705ce",
   "outputs": [
    {
     "name": "stdout",
     "output_type": "stream",
     "text": [
      "[11.956398601398602, 19.68205533596838, -6.913136363636359]\n",
      "dict_keys(['o1', '4o', 'copilot'])\n"
     ]
    }
   ],
   "execution_count": 7
  },
  {
   "metadata": {
    "ExecuteTime": {
     "end_time": "2024-10-30T20:10:22.258658Z",
     "start_time": "2024-10-30T20:10:22.255403Z"
    }
   },
   "cell_type": "code",
   "source": [
    "with open('../Results/resultsC.json') as json_file:\n",
    "    dataC = json.load(json_file)"
   ],
   "id": "4b7fbc6936f04a89",
   "outputs": [],
   "execution_count": 8
  },
  {
   "metadata": {
    "ExecuteTime": {
     "end_time": "2024-10-30T20:10:22.708698Z",
     "start_time": "2024-10-30T20:10:22.690466Z"
    }
   },
   "cell_type": "code",
   "source": [
    "meanDiffC={\"o1\": [], \"4o\": [], \"copilot\": []}\n",
    "for task in dataC.keys():\n",
    "    for model in meanDiffC.keys():\n",
    "        if np.mean(dataC[task][model][\"Energy Linux\"]).item()> 12:\n",
    "            U1, p = mannwhitneyu(dataC[task][\"human\"][\"Energy Linux\"], dataC[task][model][\"Energy Linux\"], method=\"exact\")\n",
    "            if p<0.0001:\n",
    "                meanDiffC[model].append(np.mean([yi-xi for xi, yi in zip(dataC[task][\"human\"][\"Energy Linux\"], \n",
    "                                                                    dataC[task][model][\"Energy Linux\"])]).item())"
   ],
   "id": "c02efdbdbd4104f8",
   "outputs": [],
   "execution_count": 9
  },
  {
   "metadata": {
    "ExecuteTime": {
     "end_time": "2024-10-30T20:10:23.194719Z",
     "start_time": "2024-10-30T20:10:23.192438Z"
    }
   },
   "cell_type": "code",
   "source": [
    "print([np.mean(meanDiffC[x]).item() for x in meanDiffC.keys()])\n",
    "print(meanDiffC.keys())"
   ],
   "id": "f1bf1b64ae4ecc8e",
   "outputs": [
    {
     "name": "stdout",
     "output_type": "stream",
     "text": [
      "[46.30675, 46.586450000000006, 62.430684210526316]\n",
      "dict_keys(['o1', '4o', 'copilot'])\n"
     ]
    }
   ],
   "execution_count": 10
  },
  {
   "metadata": {
    "ExecuteTime": {
     "end_time": "2024-10-30T20:10:24.201767Z",
     "start_time": "2024-10-30T20:10:24.199618Z"
    }
   },
   "cell_type": "code",
   "source": "print(len(meanDiffC[\"copilot\"]))",
   "id": "bcf89b5fff87a67",
   "outputs": [
    {
     "name": "stdout",
     "output_type": "stream",
     "text": [
      "19\n"
     ]
    }
   ],
   "execution_count": 11
  },
  {
   "metadata": {
    "ExecuteTime": {
     "end_time": "2024-10-30T20:10:24.835442Z",
     "start_time": "2024-10-30T20:10:24.832909Z"
    }
   },
   "cell_type": "code",
   "source": [
    "import seaborn as sns\n",
    "import pandas as pd\n",
    "diffPython=[np.mean(meanDiffPython[x]).item() for x in meanDiffPython.keys()]\n",
    "diffJava=[np.mean(meanDiffJava[x]).item() for x in meanDiffJava.keys()]\n",
    "diffC=[np.mean(meanDiffC[x]).item() for x in meanDiffC.keys()]\n",
    "df={ \"Python\": diffPython, \"Java\": diffJava, \"C++\": diffC}"
   ],
   "id": "51eaecdd15f3c9ef",
   "outputs": [],
   "execution_count": 12
  },
  {
   "metadata": {
    "ExecuteTime": {
     "end_time": "2024-10-30T20:10:26.073436Z",
     "start_time": "2024-10-30T20:10:26.064037Z"
    }
   },
   "cell_type": "code",
   "source": [
    "df = pd.DataFrame(data=df)\n",
    "df.T"
   ],
   "id": "60a1e4ada4f83e6b",
   "outputs": [
    {
     "data": {
      "text/plain": [
       "                0          1          2\n",
       "Python -20.473676 -34.472467 -35.481143\n",
       "Java    11.956399  19.682055  -6.913136\n",
       "C++     46.306750  46.586450  62.430684"
      ],
      "text/html": [
       "<div>\n",
       "<style scoped>\n",
       "    .dataframe tbody tr th:only-of-type {\n",
       "        vertical-align: middle;\n",
       "    }\n",
       "\n",
       "    .dataframe tbody tr th {\n",
       "        vertical-align: top;\n",
       "    }\n",
       "\n",
       "    .dataframe thead th {\n",
       "        text-align: right;\n",
       "    }\n",
       "</style>\n",
       "<table border=\"1\" class=\"dataframe\">\n",
       "  <thead>\n",
       "    <tr style=\"text-align: right;\">\n",
       "      <th></th>\n",
       "      <th>0</th>\n",
       "      <th>1</th>\n",
       "      <th>2</th>\n",
       "    </tr>\n",
       "  </thead>\n",
       "  <tbody>\n",
       "    <tr>\n",
       "      <th>Python</th>\n",
       "      <td>-20.473676</td>\n",
       "      <td>-34.472467</td>\n",
       "      <td>-35.481143</td>\n",
       "    </tr>\n",
       "    <tr>\n",
       "      <th>Java</th>\n",
       "      <td>11.956399</td>\n",
       "      <td>19.682055</td>\n",
       "      <td>-6.913136</td>\n",
       "    </tr>\n",
       "    <tr>\n",
       "      <th>C++</th>\n",
       "      <td>46.306750</td>\n",
       "      <td>46.586450</td>\n",
       "      <td>62.430684</td>\n",
       "    </tr>\n",
       "  </tbody>\n",
       "</table>\n",
       "</div>"
      ]
     },
     "execution_count": 13,
     "metadata": {},
     "output_type": "execute_result"
    }
   ],
   "execution_count": 13
  },
  {
   "metadata": {
    "ExecuteTime": {
     "end_time": "2024-10-30T20:10:55.783322Z",
     "start_time": "2024-10-30T20:10:55.491196Z"
    }
   },
   "cell_type": "code",
   "source": [
    "svm=sns.heatmap(data=df.T, xticklabels=[\"o1-mini\", \"4o\", \"copilot\"], annot=True, fmt=\".2f\", cmap=\"vlag\", vmax=60, vmin=-60)\n",
    "figure = svm.get_figure()    \n",
    "figure.savefig('./Heatmaps/energy_consumption.png', dpi=400)"
   ],
   "id": "41a55d78c975f96d",
   "outputs": [
    {
     "data": {
      "text/plain": [
       "<Figure size 640x480 with 2 Axes>"
      ],
      "image/png": "[encoded data removed]"
     },
     "metadata": {},
     "output_type": "display_data"
    }
   ],
   "execution_count": 15
  },
  {
   "metadata": {
    "ExecuteTime": {
     "end_time": "2024-10-28T10:34:16.018500Z",
     "start_time": "2024-10-28T10:34:15.987683Z"
    }
   },
   "cell_type": "code",
   "source": [
    "meanDiffPythonTime={\"o1\": [], \"4o\": [], \"copilot\": []}\n",
    "for task in dataPython.keys():\n",
    "    for model in meanDiffPythonTime.keys():\n",
    "        if np.mean(dataPython[task][model][\"Energy Linux\"]).item()> 12:\n",
    "            U1, p = mannwhitneyu(dataPython[task][\"human\"][\"Energy Linux\"], dataPython[task][model][\"Energy Linux\"], method=\"exact\")\n",
    "            if p<0.0001:\n",
    "                meanDiffPythonTime[model].append(np.mean([yi-xi for xi, yi in zip(dataPython[task][\"human\"][\"Time Linux\"], \n",
    "                                                                    dataPython[task][model][\"Time Linux\"])]).item())"
   ],
   "id": "c8ee5f6e31d76803",
   "outputs": [],
   "execution_count": 61
  },
  {
   "metadata": {
    "ExecuteTime": {
     "end_time": "2024-10-28T10:34:17.014988Z",
     "start_time": "2024-10-28T10:34:17.012838Z"
    }
   },
   "cell_type": "code",
   "source": [
    "print([np.mean(meanDiffPythonTime[x]).item() for x in meanDiffPython.keys()])\n",
    "print(meanDiffPythonTime.keys())"
   ],
   "id": "cec0f97370aaddf2",
   "outputs": [
    {
     "name": "stdout",
     "output_type": "stream",
     "text": [
      "[-1.5520091402764706, -2.2421717388233344, -2.3226860920892856]\n",
      "dict_keys(['o1', '4o', 'copilot'])\n"
     ]
    }
   ],
   "execution_count": 62
  },
  {
   "metadata": {
    "ExecuteTime": {
     "end_time": "2024-10-28T10:34:24.867499Z",
     "start_time": "2024-10-28T10:34:24.839690Z"
    }
   },
   "cell_type": "code",
   "source": [
    "meanDiffJavaTime={\"o1\": [], \"4o\": [], \"copilot\": []}\n",
    "for task in dataJava.keys():\n",
    "    for model in meanDiffJavaTime.keys():\n",
    "        if np.mean(dataJava[task][model][\"Energy Linux\"]).item()> 12:\n",
    "            U1, p = mannwhitneyu(dataJava[task][\"human\"][\"Energy Linux\"], dataJava[task][model][\"Energy Linux\"], method=\"exact\")\n",
    "            if p<0.0001:\n",
    "                meanDiffJavaTime[model].append(np.mean([yi-xi for xi, yi in zip(dataJava[task][\"human\"][\"Time Linux\"], \n",
    "                                                                    dataJava[task][model][\"Time Linux\"])]).item())"
   ],
   "id": "8abaeb54f6ce03e1",
   "outputs": [],
   "execution_count": 65
  },
  {
   "metadata": {
    "ExecuteTime": {
     "end_time": "2024-10-28T10:34:25.438040Z",
     "start_time": "2024-10-28T10:34:25.435249Z"
    }
   },
   "cell_type": "code",
   "source": [
    "print([np.mean(meanDiffJavaTime[x]).item() for x in meanDiffJava.keys()])\n",
    "print(meanDiffJavaTime.keys())"
   ],
   "id": "99c0bdf6a86e2381",
   "outputs": [
    {
     "name": "stdout",
     "output_type": "stream",
     "text": [
      "[6.682215637006994, 3.424344222798419, -0.1688453542590909]\n",
      "dict_keys(['o1', '4o', 'copilot'])\n"
     ]
    }
   ],
   "execution_count": 66
  },
  {
   "metadata": {
    "ExecuteTime": {
     "end_time": "2024-10-28T10:34:32.507037Z",
     "start_time": "2024-10-28T10:34:32.489128Z"
    }
   },
   "cell_type": "code",
   "source": [
    "meanDiffCTime={\"o1\": [], \"4o\": [], \"copilot\": []}\n",
    "for task in dataC.keys():\n",
    "    for model in meanDiffCTime.keys():\n",
    "        if np.mean(dataC[task][model][\"Energy Linux\"]).item()> 12:\n",
    "            U1, p = mannwhitneyu(dataC[task][\"human\"][\"Energy Linux\"], dataC[task][model][\"Energy Linux\"], method=\"exact\")\n",
    "            if p<0.0001:\n",
    "                meanDiffCTime[model].append(np.mean([yi-xi for xi, yi in zip(dataC[task][\"human\"][\"Time Linux\"], \n",
    "                                                                    dataC[task][model][\"Time Linux\"])]).item())"
   ],
   "id": "1cad5ccf406b688f",
   "outputs": [],
   "execution_count": 68
  },
  {
   "metadata": {
    "ExecuteTime": {
     "end_time": "2024-10-28T10:34:33.606147Z",
     "start_time": "2024-10-28T10:34:33.604012Z"
    }
   },
   "cell_type": "code",
   "source": [
    "print([np.mean(meanDiffCTime[x]).item() for x in meanDiffC.keys()])\n",
    "print(meanDiffCTime.keys())"
   ],
   "id": "d7e5b96d47c419fd",
   "outputs": [
    {
     "name": "stdout",
     "output_type": "stream",
     "text": [
      "[3.0642431210464287, 2.9679382113899995, 4.0740638586263165]\n",
      "dict_keys(['o1', '4o', 'copilot'])\n"
     ]
    }
   ],
   "execution_count": 69
  },
  {
   "metadata": {
    "ExecuteTime": {
     "end_time": "2024-10-28T10:34:38.087956Z",
     "start_time": "2024-10-28T10:34:38.084364Z"
    }
   },
   "cell_type": "code",
   "source": [
    "diffPythonTime=[np.mean(meanDiffPythonTime[x]).item() for x in meanDiffPythonTime.keys()]\n",
    "diffJavaTime=[np.mean(meanDiffJavaTime[x]).item() for x in meanDiffJavaTime.keys()]\n",
    "diffCTime=[np.mean(meanDiffCTime[x]).item() for x in meanDiffCTime.keys()]\n",
    "dfTime={ \"Python\": diffPythonTime, \"Java\": diffJavaTime, \"C++\": diffCTime}\n",
    "dfTime = pd.DataFrame(data=dfTime)"
   ],
   "id": "904346c82a4da75b",
   "outputs": [],
   "execution_count": 70
  },
  {
   "metadata": {
    "ExecuteTime": {
     "end_time": "2024-10-28T10:34:39.777459Z",
     "start_time": "2024-10-28T10:34:39.495156Z"
    }
   },
   "cell_type": "code",
   "source": [
    "svmTime=sns.heatmap(data=dfTime.T,xticklabels=[\"o1\", \"4o\", \"copilot\"], annot=True, fmt=\".2f\", cmap=\"vlag\", vmax=6, vmin=-6)\n",
    "figureTime = svmTime.get_figure()    \n",
    "figureTime.savefig('./Heatmaps/mean_diff_time_language_model.png', dpi=400)"
   ],
   "id": "2ea5ff580dfd0953",
   "outputs": [
    {
     "data": {
      "text/plain": [
       "<Figure size 640x480 with 2 Axes>"
      ],
      "image/png": "[encoded data removed]"
     },
     "metadata": {},
     "output_type": "display_data"
    }
   ],
   "execution_count": 71
  },
  {
   "metadata": {},
   "cell_type": "code",
   "outputs": [],
   "execution_count": null,
   "source": " ",
   "id": "c0c90230309f6a81"
  }
 ],
 "metadata": {
  "kernelspec": {
   "display_name": "Python 3",
   "language": "python",
   "name": "python3"
  },
  "language_info": {
   "codemirror_mode": {
    "name": "ipython",
    "version": 2
   },
   "file_extension": ".py",
   "mimetype": "text/x-python",
   "name": "python",
   "nbconvert_exporter": "python",
   "pygments_lexer": "ipython2",
   "version": "2.7.6"
  }
 },
 "nbformat": 4,
 "nbformat_minor": 5
}
