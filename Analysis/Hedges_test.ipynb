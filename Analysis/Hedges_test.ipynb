{
 "cells": [
  {
   "cell_type": "code",
   "id": "initial_id",
   "metadata": {
    "collapsed": true,
    "ExecuteTime": {
     "end_time": "2024-10-30T20:14:55.410073Z",
     "start_time": "2024-10-30T20:14:55.326717Z"
    }
   },
   "source": [
    "import numpy as np\n",
    "import scipy \n",
    "import seaborn as sns\n",
    "import pandas as pd\n",
    "import json\n",
    "import math\n",
    "import pingouin\n",
    "import math"
   ],
   "outputs": [],
   "execution_count": 1
  },
  {
   "metadata": {
    "ExecuteTime": {
     "end_time": "2024-10-30T20:14:55.944081Z",
     "start_time": "2024-10-30T20:14:55.932396Z"
    }
   },
   "cell_type": "code",
   "source": [
    "with open('../Results/resultsPython.json') as json_file:\n",
    "    dataPython = json.load(json_file)\n",
    "with open('../Results/resultsJava.json') as json_file:\n",
    "    dataJava = json.load(json_file)\n",
    "with open('../Results/resultsC.json') as json_file:\n",
    "    dataC = json.load(json_file)"
   ],
   "id": "ad066a2634ecd579",
   "outputs": [],
   "execution_count": 2
  },
  {
   "metadata": {
    "ExecuteTime": {
     "end_time": "2024-10-30T20:14:56.402411Z",
     "start_time": "2024-10-30T20:14:56.398923Z"
    }
   },
   "cell_type": "code",
   "source": [
    "def calculate_hedges(model, language):\n",
    " distribution_model=[]\n",
    " distribution_human=[]\n",
    " if language==\"Python\":\n",
    "  for task in dataPython.keys():\n",
    "   if np.mean(dataPython[task][model][\"Energy Linux\"])>15:\n",
    "    distribution_model.append(dataPython[task][model][\"Energy Linux\"])\n",
    "    distribution_human.append(dataPython[task][\"human\"][\"Energy Linux\"])\n",
    " elif language==\"Java\":\n",
    "  for task in dataJava.keys():\n",
    "   if np.mean(dataJava[task][model][\"Energy Linux\"])>15:\n",
    "    distribution_model.append(dataJava[task][model][\"Energy Linux\"])\n",
    "    distribution_human.append(dataJava[task][\"human\"][\"Energy Linux\"])\n",
    " elif language==\"C\":\n",
    "  for task in dataC.keys():\n",
    "   if np.mean(dataC[task][model][\"Energy Linux\"])>15:\n",
    "    distribution_model.append(dataC[task][model][\"Energy Linux\"])\n",
    "    distribution_human.append(dataC[task][\"human\"][\"Energy Linux\"])\n",
    " return pingouin.compute_effsize(distribution_human, distribution_model, eftype='hedges')"
   ],
   "id": "caaa25d09ca227f4",
   "outputs": [],
   "execution_count": 3
  },
  {
   "metadata": {
    "ExecuteTime": {
     "end_time": "2024-10-30T20:14:57.039539Z",
     "start_time": "2024-10-30T20:14:57.035768Z"
    }
   },
   "cell_type": "code",
   "source": "abs(calculate_hedges(\"copilot\", \"Java\").item())",
   "id": "e77ffc6802c3adac",
   "outputs": [
    {
     "data": {
      "text/plain": [
       "0.011508136190032804"
      ]
     },
     "execution_count": 4,
     "metadata": {},
     "output_type": "execute_result"
    }
   ],
   "execution_count": 4
  },
  {
   "metadata": {},
   "cell_type": "code",
   "outputs": [],
   "execution_count": null,
   "source": "",
   "id": "de8f410e084f57"
  },
  {
   "metadata": {
    "ExecuteTime": {
     "end_time": "2024-10-30T20:14:57.971833Z",
     "start_time": "2024-10-30T20:14:57.961992Z"
    }
   },
   "cell_type": "code",
   "source": [
    "sample_size={\"o1-mini\":[abs(calculate_hedges(\"o1\", \"Python\")), abs(calculate_hedges(\"o1\", \"Java\")), abs(calculate_hedges(\"o1\", \"C\"))],\"4o\":[calculate_hedges(\"4o\", \"Python\"), abs(calculate_hedges(\"4o\", \"Java\")), abs(calculate_hedges(\"4o\", \"C\"))], \"copilot\":[abs(calculate_hedges(\"copilot\", \"Python\")), abs(calculate_hedges(\"copilot\", \"Java\")), abs(calculate_hedges(\"copilot\", \"C\"))]}\n",
    "df=pd.DataFrame(sample_size)\n",
    "df"
   ],
   "id": "3a92df745b30bd1b",
   "outputs": [
    {
     "data": {
      "text/plain": [
       "    o1-mini        4o   copilot\n",
       "0  0.108106  0.189319  0.189204\n",
       "1  0.095566  0.140344  0.011508\n",
       "2  0.475386  0.432789  0.681102"
      ],
      "text/html": [
       "<div>\n",
       "<style scoped>\n",
       "    .dataframe tbody tr th:only-of-type {\n",
       "        vertical-align: middle;\n",
       "    }\n",
       "\n",
       "    .dataframe tbody tr th {\n",
       "        vertical-align: top;\n",
       "    }\n",
       "\n",
       "    .dataframe thead th {\n",
       "        text-align: right;\n",
       "    }\n",
       "</style>\n",
       "<table border=\"1\" class=\"dataframe\">\n",
       "  <thead>\n",
       "    <tr style=\"text-align: right;\">\n",
       "      <th></th>\n",
       "      <th>o1-mini</th>\n",
       "      <th>4o</th>\n",
       "      <th>copilot</th>\n",
       "    </tr>\n",
       "  </thead>\n",
       "  <tbody>\n",
       "    <tr>\n",
       "      <th>0</th>\n",
       "      <td>0.108106</td>\n",
       "      <td>0.189319</td>\n",
       "      <td>0.189204</td>\n",
       "    </tr>\n",
       "    <tr>\n",
       "      <th>1</th>\n",
       "      <td>0.095566</td>\n",
       "      <td>0.140344</td>\n",
       "      <td>0.011508</td>\n",
       "    </tr>\n",
       "    <tr>\n",
       "      <th>2</th>\n",
       "      <td>0.475386</td>\n",
       "      <td>0.432789</td>\n",
       "      <td>0.681102</td>\n",
       "    </tr>\n",
       "  </tbody>\n",
       "</table>\n",
       "</div>"
      ]
     },
     "execution_count": 5,
     "metadata": {},
     "output_type": "execute_result"
    }
   ],
   "execution_count": 5
  },
  {
   "metadata": {
    "ExecuteTime": {
     "end_time": "2024-10-30T20:15:25.360126Z",
     "start_time": "2024-10-30T20:15:25.065010Z"
    }
   },
   "cell_type": "code",
   "source": [
    "svm=sns.heatmap(data=df, annot=True, fmt=\".2f\", cmap=\"vlag\", vmax=1, vmin=-0, yticklabels=[\"Python\",\"Java\", \"C++\"])\n",
    "figure = svm.get_figure()    \n",
    "figure.savefig('./Heatmaps/effect_size.png', dpi=400)"
   ],
   "id": "b36ff856342cdb1",
   "outputs": [
    {
     "data": {
      "text/plain": [
       "<Figure size 640x480 with 2 Axes>"
      ],
      "image/png": "[encoded data removed]"
     },
     "metadata": {},
     "output_type": "display_data"
    }
   ],
   "execution_count": 7
  },
  {
   "metadata": {},
   "cell_type": "code",
   "outputs": [],
   "execution_count": null,
   "source": "",
   "id": "1bc3fe53fe866b9f"
  }
 ],
 "metadata": {
  "kernelspec": {
   "display_name": "Python 3",
   "language": "python",
   "name": "python3"
  },
  "language_info": {
   "codemirror_mode": {
    "name": "ipython",
    "version": 2
   },
   "file_extension": ".py",
   "mimetype": "text/x-python",
   "name": "python",
   "nbconvert_exporter": "python",
   "pygments_lexer": "ipython2",
   "version": "2.7.6"
  }
 },
 "nbformat": 4,
 "nbformat_minor": 5
}
