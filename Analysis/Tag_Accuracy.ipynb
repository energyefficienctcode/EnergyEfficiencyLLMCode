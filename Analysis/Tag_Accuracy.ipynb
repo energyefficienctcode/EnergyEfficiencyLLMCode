{
  "cells": [
    {
      "cell_type": "code",
      "id": "initial_id",
      "metadata": {
        "collapsed": true,
        "ExecuteTime": {
          "end_time": "2024-11-26T14:17:35.861444Z",
          "start_time": "2024-11-26T14:17:35.857100Z"
        }
      },
      "source": [
        "import json\n",
        "import numpy as np\n",
        "import math\n",
        "import matplotlib.pyplot as plt\n",
        "import pandas as pd"
      ],
      "outputs": [],
      "execution_count": 28
    },
    {
      "metadata": {
        "ExecuteTime": {
          "end_time": "2024-11-26T14:17:36.249291Z",
          "start_time": "2024-11-26T14:17:36.233551Z"
        }
      },
      "cell_type": "code",
      "source": "categories = pd.read_excel(\"../Sheets/Tasks_and_Tags.xlsx\")",
      "id": "475be07fd14a9365",
      "outputs": [],
      "execution_count": 29
    },
    {
      "metadata": {
        "ExecuteTime": {
          "end_time": "2024-11-26T15:09:47.552230Z",
          "start_time": "2024-11-26T15:09:47.544753Z"
        }
      },
      "cell_type": "code",
      "source": [
        "with open('../Results/resultsC.json') as json_file:\n",
        "            dataPython = json.load(json_file)"
      ],
      "id": "12b185692c71528d",
      "outputs": [],
      "execution_count": 115
    },
    {
      "metadata": {
        "ExecuteTime": {
          "end_time": "2024-11-26T15:09:48.463202Z",
          "start_time": "2024-11-26T15:09:48.441338Z"
        }
      },
      "cell_type": "code",
      "source": [
        "human={}\n",
        "o1={}\n",
        "copilot={}\n",
        "four_o={}\n",
        "    \n",
        "human_powermetrics={}\n",
        "o1_powermetrics={}\n",
        "four_o_powermetrics={}\n",
        "copilot_powermetrics={}\n",
        "    \n",
        "for task in dataPython.keys():\n",
        "        mean_energy=np.mean(dataPython[task][\"human\"][\"Energy Linux\"]).item()\n",
        "        mean_energy_o1=np.mean(dataPython[task][\"o1\"][\"Energy Linux\"]).item()\n",
        "        mean_energy_4o=np.mean(dataPython[task][\"4o\"][\"Energy Linux\"]).item()\n",
        "        mean_energy_copilot=np.mean(dataPython[task][\"copilot\"][\"Energy Linux\"]).item()\n",
        "        mean_energy_powermetrics=np.mean(dataPython[task][\"human\"][\"Energy\"]).item()\n",
        "        mean_energy_powermetrics_o1=np.mean(dataPython[task][\"o1\"][\"Energy\"]).item()\n",
        "        mean_energy_powermetrics_4o=np.mean(dataPython[task][\"4o\"][\"Energy\"]).item()\n",
        "        mean_energy_powermetrics_copilot=np.mean(dataPython[task][\"copilot\"][\"Energy\"]).item()\n",
        "        \n",
        "        if not np.isnan(mean_energy_powermetrics):\n",
        "            human_powermetrics[task]=mean_energy_powermetrics\n",
        "        if not np.isnan(mean_energy_powermetrics_o1) and not np.isnan(mean_energy_powermetrics):\n",
        "            o1_powermetrics[task]=mean_energy_powermetrics_o1\n",
        "        if not np.isnan(mean_energy_powermetrics_4o) and not np.isnan(mean_energy_powermetrics):\n",
        "            four_o_powermetrics[task]=mean_energy_powermetrics_4o\n",
        "        if not np.isnan(mean_energy_powermetrics_copilot) and not np.isnan(mean_energy_powermetrics):\n",
        "            copilot_powermetrics[task]=mean_energy_powermetrics_copilot\n",
        "            \n",
        "        human[task]=mean_energy\n",
        "        if mean_energy_o1>12 and mean_energy>12:\n",
        "            o1[task]=mean_energy_o1\n",
        "        if mean_energy_copilot>12 and mean_energy>12:\n",
        "            copilot[task]=mean_energy_copilot\n",
        "            #human[task]=mean_energy\n",
        "        if mean_energy_4o>12 and mean_energy>12:\n",
        "            four_o[task]=mean_energy_4o\n",
        "    \n",
        "all_tags={}\n",
        "all_tags_o1={}\n",
        "all_tags_copilot={}\n",
        "all_tags_4o={}\n",
        "    \n",
        "all_tags_powermetrics={}\n",
        "all_tags_o1_powermetrics={}\n",
        "all_tags_4o_powermetrics={}\n",
        "all_tags_copilot_powermetrics={}\n",
        "    \n",
        "for task in categories[\"Name \"]:\n",
        "        name=task.replace(\" \",\"_\")\n",
        "        tags=categories[categories[\"Name \"]==task][\"Tags \"].to_list()[0].split(\",\")\n",
        "        for t in tags:\n",
        "            if t.strip() not in all_tags.keys():\n",
        "                all_tags[t.strip()]=[]\n",
        "            if name in human.keys():\n",
        "                all_tags[t.strip()].append(human[name])  \n",
        "            if t.strip() not in all_tags_o1.keys():\n",
        "                all_tags_o1[t.strip()]=[]\n",
        "            if name in o1.keys():\n",
        "                all_tags_o1[t.strip()].append(o1[name])\n",
        "            if t.strip() not in all_tags_copilot.keys():\n",
        "                all_tags_copilot[t.strip()]=[]\n",
        "            if name in copilot.keys():\n",
        "                all_tags_copilot[t.strip()].append(copilot[name])  \n",
        "            if t.strip() not in all_tags_4o.keys():\n",
        "                all_tags_4o[t.strip()]=[]\n",
        "            if name in four_o.keys():\n",
        "                all_tags_4o[t.strip()].append(four_o[name])\n",
        "            \n",
        "            if t.strip() not in all_tags_powermetrics.keys():\n",
        "                all_tags_powermetrics[t.strip()]=[]\n",
        "            if name in human_powermetrics.keys():\n",
        "                all_tags_powermetrics[t.strip()].append(human_powermetrics[name])  \n",
        "            if t.strip() not in all_tags_o1_powermetrics.keys():\n",
        "                all_tags_o1_powermetrics[t.strip()]=[]\n",
        "            if name in o1_powermetrics.keys():\n",
        "                all_tags_o1_powermetrics[t.strip()].append(o1_powermetrics[name])\n",
        "            if t.strip() not in all_tags_4o_powermetrics.keys():\n",
        "                all_tags_4o_powermetrics[t.strip()]=[]\n",
        "            if name in four_o_powermetrics.keys():\n",
        "                all_tags_4o_powermetrics[t.strip()].append(four_o_powermetrics[name])\n",
        "            if t.strip() not in all_tags_copilot_powermetrics.keys():\n",
        "                all_tags_copilot_powermetrics[t.strip()]=[]\n",
        "            if name in copilot_powermetrics.keys():\n",
        "                all_tags_copilot_powermetrics[t.strip()].append(copilot_powermetrics[name])\n",
        "    \n",
        "ordered_human={k: v for k, v in sorted(human.items(), key=lambda item: item[1])}\n",
        "ordered_o1={k: v for k, v in sorted(o1.items(), key=lambda item: item[1])}\n",
        "ordered_copilot={k: v for k, v in sorted(copilot.items(), key=lambda item: item[1])}\n",
        "ordered_4o={k: v for k, v in sorted(four_o.items(), key=lambda item: item[1])}\n",
        "    \n",
        "ordered_human_powermetrics={k: v for k, v in sorted(human_powermetrics.items(), key=lambda item: item[1])}\n",
        "ordered_o1_powermetrics={k: v for k, v in sorted(o1_powermetrics.items(), key=lambda item: item[1])}\n",
        "ordered_4o_powermetrics={k: v for k, v in sorted(four_o_powermetrics.items(), key=lambda item: item[1])}\n",
        "ordered_copilot_powermetrics={k: v for k, v in sorted(copilot_powermetrics.items(), key=lambda item: item[1])}\n",
        "    "
      ],
      "id": "69dc4797c8738e11",
      "outputs": [
        {
          "name": "stderr",
          "output_type": "stream",
          "text": [
            "/Users/lolasolovyeva/PycharmProjects/GSD/.venv/lib/python3.10/site-packages/numpy/_core/fromnumeric.py:3904: RuntimeWarning: Mean of empty slice.\n",
            "  return _methods._mean(a, axis=axis, dtype=dtype,\n",
            "/Users/lolasolovyeva/PycharmProjects/GSD/.venv/lib/python3.10/site-packages/numpy/_core/_methods.py:147: RuntimeWarning: invalid value encountered in scalar divide\n",
            "  ret = ret.dtype.type(ret / rcount)\n"
          ]
        }
      ],
      "execution_count": 116
    },
    {
      "metadata": {
        "ExecuteTime": {
          "end_time": "2024-11-26T15:09:49.433054Z",
          "start_time": "2024-11-26T15:09:49.424928Z"
        }
      },
      "cell_type": "code",
      "source": [
        "count=0\n",
        "tags_graph=[]\n",
        "energy_graph=[]\n",
        "order_graph=[]\n",
        "for key in ordered_human.keys():\n",
        "        name=key.replace(\"_\", \" \")\n",
        "        tags=categories[categories[\"Name \"]==name][\"Tags \"].to_list()\n",
        "        if len(tags)>0:\n",
        "            #print(name+\"\\n Tags: \"+\",\".join(tags)+\". \\n Energy: \"+str(ordered_human[key])+\"\\n\")\n",
        "            tags=tags[0].split(\",\")\n",
        "            for tag in tags:\n",
        "                tags_graph.append(tag.strip())\n",
        "                energy_graph.append(ordered_human[key])\n",
        "                order_graph.append(count)\n",
        "            count+=1\n",
        "    \n",
        "tags_energies={}\n",
        "for i in range(len(tags_graph)):\n",
        "        if tags_graph[i] not in tags_energies.keys():\n",
        "            tags_energies[tags_graph[i]]=[]\n",
        "        tags_energies[tags_graph[i]].append(energy_graph[i])\n",
        "    \n",
        "for k in tags_energies.keys():\n",
        "        tags_energies[k]=len(tags_energies[k])\n",
        "tags_energies = {k: v for k, v in sorted(tags_energies.items(), key=lambda item: item[0])}"
      ],
      "id": "d53d0052138af1b8",
      "outputs": [],
      "execution_count": 117
    },
    {
      "metadata": {
        "ExecuteTime": {
          "end_time": "2024-11-26T15:09:50.027047Z",
          "start_time": "2024-11-26T15:09:50.024002Z"
        }
      },
      "cell_type": "code",
      "source": "tags_energies",
      "id": "f6f3a8b52610e5aa",
      "outputs": [
        {
          "data": {
            "text/plain": [
              "{'Array': 32,\n",
              " 'Backtracking': 3,\n",
              " 'Binary Search': 10,\n",
              " 'Bit Manipulation': 10,\n",
              " 'Bitmask': 3,\n",
              " 'Breadth-First Search': 2,\n",
              " 'Combinatorics': 1,\n",
              " 'Counting': 1,\n",
              " 'Depth-First Search': 2,\n",
              " 'Divide and Conquer': 3,\n",
              " 'Dynamic Programming': 17,\n",
              " 'Game Theory': 1,\n",
              " 'Graph': 3,\n",
              " 'Greedy': 7,\n",
              " 'Hash Function': 4,\n",
              " 'Hash Table': 8,\n",
              " 'Heap (Priority Queue)': 3,\n",
              " 'Linked List': 2,\n",
              " 'Math': 5,\n",
              " 'Matrix': 4,\n",
              " 'Merge Sort': 1,\n",
              " 'Monotonic Stack': 3,\n",
              " 'Number Theory': 2,\n",
              " 'Ordered Set': 1,\n",
              " 'Prefix Sum': 2,\n",
              " 'Queue': 1,\n",
              " 'Recursion': 5,\n",
              " 'Rolling Hash': 4,\n",
              " 'Segment Tree': 5,\n",
              " 'Shortest Path': 1,\n",
              " 'Simulation': 1,\n",
              " 'Sliding Window': 5,\n",
              " 'Sorting': 6,\n",
              " 'Stack': 4,\n",
              " 'String': 17,\n",
              " 'String Matching': 5,\n",
              " 'Suffix Array': 1,\n",
              " 'Tree': 2,\n",
              " 'Trie': 2,\n",
              " 'Two Pointers': 2}"
            ]
          },
          "execution_count": 118,
          "metadata": {},
          "output_type": "execute_result"
        }
      ],
      "execution_count": 118
    },
    {
      "metadata": {
        "ExecuteTime": {
          "end_time": "2024-11-26T15:09:50.452568Z",
          "start_time": "2024-11-26T15:09:50.443536Z"
        }
      },
      "cell_type": "code",
      "source": [
        "count_4o=0\n",
        "tags_graph_4o=[]\n",
        "energy_graph_4o=[]\n",
        "order_graph_4o=[]\n",
        "for key in ordered_4o.keys():\n",
        "        name=key.replace(\"_\", \" \")\n",
        "        tags=categories[categories[\"Name \"]==name][\"Tags \"].to_list()\n",
        "        if len(tags)>0:\n",
        "            #print(name+\"\\n Tags: \"+\",\".join(tags)+\". \\n Energy: \"+str(ordered_4o[key])+\"\\n\")\n",
        "            tags=tags[0].split(\",\")\n",
        "            for tag in tags:\n",
        "                tags_graph_4o.append(tag.strip())\n",
        "                energy_graph_4o.append(ordered_4o[key])\n",
        "                order_graph_4o.append(count_4o)\n",
        "            count_4o+=1\n",
        "    \n",
        "tags_energies_4o={}\n",
        "for i in range(len(tags_graph_4o)):\n",
        "        if tags_graph_4o[i] not in tags_energies_4o.keys():\n",
        "            tags_energies_4o[tags_graph_4o[i]]=[]\n",
        "        tags_energies_4o[tags_graph_4o[i]].append(energy_graph_4o[i])\n",
        "        \n",
        "    \n",
        "for k in tags_energies_4o.keys():\n",
        "        tags_energies_4o[k]=len(tags_energies_4o[k])\n",
        "        \n",
        "tags_energies_4o = {k: v for k, v in sorted(tags_energies_4o.items(), key=lambda item: item[0])}\n",
        "\n",
        "count_copilot=0\n",
        "tags_graph_copilot=[]\n",
        "energy_graph_copilot=[]\n",
        "order_graph_copilot=[]\n",
        "for key in ordered_copilot.keys():\n",
        "        name=key.replace(\"_\", \" \")\n",
        "        tags=categories[categories[\"Name \"]==name][\"Tags \"].to_list()\n",
        "        if len(tags)>0:\n",
        "            #print(name+\"\\n Tags: \"+\",\".join(tags)+\". \\n Energy: \"+str(ordered_copilot[key])+\"\\n\")\n",
        "            tags=tags[0].split(\",\")\n",
        "            for tag in tags:\n",
        "                tags_graph_copilot.append(tag.strip())\n",
        "                energy_graph_copilot.append(ordered_copilot[key])\n",
        "                order_graph_copilot.append(count_copilot)\n",
        "            count_copilot+=1\n",
        "    \n",
        "tags_energies_copilot={}\n",
        "for i in range(len(tags_graph_copilot)):\n",
        "        if tags_graph_copilot[i] not in tags_energies_copilot.keys():\n",
        "            tags_energies_copilot[tags_graph_copilot[i]]=[]\n",
        "        tags_energies_copilot[tags_graph_copilot[i]].append(energy_graph_copilot[i])\n",
        "        \n",
        "for k in tags_energies_copilot.keys():\n",
        "        tags_energies_copilot[k]=len(tags_energies_copilot[k])\n",
        "tags_energies_copilot = {k: v for k, v in sorted(tags_energies_copilot.items(), key=lambda item: item[0])}\n",
        "    "
      ],
      "id": "e92c05333085fe78",
      "outputs": [],
      "execution_count": 119
    },
    {
      "metadata": {
        "ExecuteTime": {
          "end_time": "2024-11-26T15:09:51.338192Z",
          "start_time": "2024-11-26T15:09:51.332352Z"
        }
      },
      "cell_type": "code",
      "source": [
        "count_o1 = 0\n",
        "tags_graph_o1 = []\n",
        "energy_graph_o1 = []\n",
        "order_graph_o1 = []\n",
        "for key in ordered_o1.keys():\n",
        "        name = key.replace(\"_\", \" \")\n",
        "        tags = categories[categories[\"Name \"] == name][\"Tags \"].to_list()\n",
        "        if len(tags) > 0:\n",
        "            #print(name + \"\\n Tags: \" + \",\".join(tags) + \". \\n Energy: \" + str(ordered_o1[key]) + \"\\n\")\n",
        "            tags = tags[0].split(\",\")\n",
        "            for tag in tags:\n",
        "                tags_graph_o1.append(tag.strip())\n",
        "                energy_graph_o1.append(ordered_o1[key])\n",
        "                order_graph_o1.append(count_o1)\n",
        "            count_o1 += 1\n",
        "    \n",
        "tags_energies_o1 = {}\n",
        "for i in range(len(tags_graph_o1)):\n",
        "        if tags_graph_o1[i] not in tags_energies_o1.keys():\n",
        "            tags_energies_o1[tags_graph_o1[i]] = []\n",
        "        tags_energies_o1[tags_graph_o1[i]].append(energy_graph_o1[i])\n",
        "    \n",
        "for k in tags_energies_o1.keys():\n",
        "        tags_energies_o1[k] = len(tags_energies_o1[k])\n",
        "tags_energies_o1 = dict(sorted(tags_energies_o1.items()))"
      ],
      "id": "cb8d6cf67db722f1",
      "outputs": [],
      "execution_count": 120
    },
    {
      "metadata": {
        "ExecuteTime": {
          "end_time": "2024-11-27T03:45:58.871732Z",
          "start_time": "2024-11-27T03:45:58.860471Z"
        }
      },
      "cell_type": "code",
      "source": "tags_energies_copilot",
      "id": "6e1769863fa99701",
      "outputs": [
        {
          "data": {
            "text/plain": [
              "{'Array': 10,\n",
              " 'Binary Search': 4,\n",
              " 'Divide and Conquer': 3,\n",
              " 'Dynamic Programming': 5,\n",
              " 'Greedy': 1,\n",
              " 'Hash Function': 3,\n",
              " 'Heap (Priority Queue)': 1,\n",
              " 'Linked List': 2,\n",
              " 'Math': 1,\n",
              " 'Matrix': 1,\n",
              " 'Merge Sort': 1,\n",
              " 'Monotonic Stack': 2,\n",
              " 'Prefix Sum': 1,\n",
              " 'Recursion': 3,\n",
              " 'Rolling Hash': 3,\n",
              " 'Segment Tree': 2,\n",
              " 'Simulation': 1,\n",
              " 'Sliding Window': 1,\n",
              " 'Sorting': 1,\n",
              " 'Stack': 3,\n",
              " 'String': 8,\n",
              " 'String Matching': 3,\n",
              " 'Trie': 2,\n",
              " 'Two Pointers': 1}"
            ]
          },
          "execution_count": 123,
          "metadata": {},
          "output_type": "execute_result"
        }
      ],
      "execution_count": 123
    },
    {
      "metadata": {},
      "cell_type": "code",
      "outputs": [],
      "execution_count": null,
      "source": "",
      "id": "2ae786ad189f1753"
    }
  ],
  "metadata": {
    "kernelspec": {
      "display_name": "Python 3",
      "language": "python",
      "name": "python3"
    },
    "language_info": {
      "codemirror_mode": {
        "name": "ipython",
        "version": 2
      },
      "file_extension": ".py",
      "mimetype": "text/x-python",
      "name": "python",
      "nbconvert_exporter": "python",
      "pygments_lexer": "ipython2",
      "version": "2.7.6"
    }
  },
  "nbformat": 4,
  "nbformat_minor": 5
}
